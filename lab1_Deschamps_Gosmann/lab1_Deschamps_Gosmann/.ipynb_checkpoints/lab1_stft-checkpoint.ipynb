{
 "cells": [
  {
   "cell_type": "markdown",
   "metadata": {},
   "source": [
    "# Representation of signals & inverse problems - G1-G2\n",
    "---\n",
    "## Lab 1: Introduction to time-frequency analysis"
   ]
  },
  {
   "cell_type": "markdown",
   "metadata": {},
   "source": [
    "---\n",
    "## Guidelines (read carefully before starting)\n",
    "\n",
    "**Objective**: This practical session consists in a series of 6 short exercises introducting the time-frequency analysis of sounds (acoustic signals).\n",
    "\n",
    "**Guidelines**: after retrieving the resources for the lab on moodle:\n",
    "- place the .zip archive in a local folder (Computer -> Documents/Python/);\n",
    "- unzip the archive .zip;\n",
    "- rename the folder with the convention lab1_Name1_Name2;\n",
    "- duplicate the notebook file and rename it lab1_Name1_Name2.ipynb;\n",
    "- at the end of the session, do not forget to transfer your work to your own network space if you are working on a machine from the school (do not leave your work on the C: drive).\n",
    "\n",
    "**Assessment** &#8594; global grade from F to A (A+)\n",
    "\n",
    "Assessmment based on your answer to the exercises reported in the notebook and any additional `.py` file produced. Custom code should be commented whenever appropriate. Figures should be clearly annotated (axes, title).\n",
    "\n",
    "1. Numerical correctness\n",
    "2. Implementation clarity (documentation, relevance of the comments)\n",
    "3. Answers to the questions and overall presentation of the Jupyter notebook."
   ]
  },
  {
   "cell_type": "markdown",
   "metadata": {},
   "source": [
    "**Remark**: some of the Python modules used in this lab session are:\n",
    "\n",
    "* the [`numpy.fft` package](https://docs.scipy.org/doc/numpy/reference/routines.fft.html), providing implementation of the standard Fourier transforms and related tools;\n",
    "* the [`scipy.signal` package](https://docs.scipy.org/doc/scipy/reference/signal.html#module-scipy.signal), containing several functions to perform various operations on signals"
   ]
  },
  {
   "cell_type": "markdown",
   "metadata": {},
   "source": [
    "## Contents <a id=\"content\"></a>\n",
    "\n",
    "1. [Section 1](#section1): Fourier analysis (spectral analysis)\n",
    "   - [Exercise 1](#ex1) \n",
    "2. [Section 2](#section2): Fourier analysis of segments\n",
    "   - [Exercise 2](#ex2) \n",
    "   - [Exercise 3](#ex3) \n",
    "3. [Section 3](#section3): Introduction to time-frequency analysis \n",
    "   - [Exercise 4](#ex4) \n",
    "4. [Section 4](#section4): Analysis of some signals\n",
    "   - [Exercise 5](#ex5) \n",
    "   - [Bonus: Exercise 6](#ex6) "
   ]
  },
  {
   "cell_type": "markdown",
   "metadata": {},
   "source": [
    "## Configuration "
   ]
  },
  {
   "cell_type": "code",
   "execution_count": null,
   "metadata": {},
   "outputs": [],
   "source": [
    "# make sure the notebook reloads the module each time we modify it\n",
    "%load_ext autoreload\n",
    "%autoreload 2\n",
    "\n",
    "# Uncomment the next line if you want to be able to zoom on plots (one of the options below)\n",
    "# %matplotlib widget\n",
    "# %matplotlib notebook\n",
    "%matplotlib inline\n",
    "\n",
    "import matplotlib.pyplot as plt\n",
    "import numpy as np\n",
    "import scipy.io as scio\n",
    "import scipy.io.wavfile as scwav\n",
    "import scipy.signal as sg\n",
    "from IPython.display import Audio\n",
    "from ipywidgets import fixed, interact, interact_manual, interactive\n",
    "from matplotlib.colors import LogNorm\n",
    "from matplotlib.gridspec import GridSpec\n",
    "\n",
    "SMALL_SIZE = 16\n",
    "MEDIUM_SIZE = 20\n",
    "BIGGER_SIZE = 24\n",
    "\n",
    "plt.rc(\"font\", size=SMALL_SIZE)  # controls default text sizes\n",
    "plt.rc(\"axes\", titlesize=SMALL_SIZE)  # fontsize of the axes title\n",
    "plt.rc(\"axes\", labelsize=MEDIUM_SIZE)  # fontsize of the x and y labels\n",
    "plt.rc(\"xtick\", labelsize=SMALL_SIZE)  # fontsize of the tick labels\n",
    "plt.rc(\"ytick\", labelsize=SMALL_SIZE)  # fontsize of the tick labels\n",
    "plt.rc(\"legend\", fontsize=SMALL_SIZE)  # legend fontsize\n",
    "plt.rc(\"figure\", titlesize=BIGGER_SIZE)  # fontsize of the figure title"
   ]
  },
  {
   "cell_type": "markdown",
   "metadata": {},
   "source": [
    "---\n",
    "## Section 1: Fourier analysis (spectral analysis) <a id=\"section1\"></a> [(&#8593;)](#content)"
   ]
  },
  {
   "cell_type": "markdown",
   "metadata": {},
   "source": [
    "### Reading, displaying, listening to a signal"
   ]
  },
  {
   "cell_type": "markdown",
   "metadata": {},
   "source": [
    "Signals can be represented as 1D vectors, stored as a row or a column vector. Several sound files signals are available in the `sounds` folder.\n",
    "\n",
    "The following instruction reads a signal from a `.wav` file (song of a bird), with `fs` the sampling frequency loaded from the file."
   ]
  },
  {
   "cell_type": "code",
   "execution_count": null,
   "metadata": {},
   "outputs": [],
   "source": [
    "fs, x = scwav.read(\"sounds/bird.wav\")\n",
    "\n",
    "Audio(x, rate=fs)"
   ]
  },
  {
   "cell_type": "code",
   "execution_count": null,
   "metadata": {},
   "outputs": [],
   "source": [
    "# time samples corresponding to x\n",
    "t = np.arange(0, x.size) / fs\n",
    "\n",
    "plt.figure(figsize=(10, 6))\n",
    "plt.plot(t, x)\n",
    "plt.grid()\n",
    "plt.xlabel(\"Time [s]\")\n",
    "plt.ylabel(\"Signal intensity\")\n",
    "plt.title(\"Bird signal\")\n",
    "plt.show()"
   ]
  },
  {
   "cell_type": "markdown",
   "metadata": {},
   "source": [
    "- One can visualize a small segment of the signal in the time domain and observe its oscillatory behaviour."
   ]
  },
  {
   "cell_type": "code",
   "execution_count": null,
   "metadata": {},
   "outputs": [],
   "source": [
    "# first instant in the considered time interval\n",
    "t0 = 0.18\n",
    "\n",
    "# time interval duration\n",
    "T = 0.02\n",
    "\n",
    "# time instants within the time interval considered\n",
    "t = np.linspace(t0, t0 + T, int(fs * T))\n",
    "\n",
    "plt.figure(figsize=(12, 6))\n",
    "plt.plot(t, x[int(fs * t0) : int(fs * (t0 + T))])\n",
    "plt.xlabel(r\"$t$ [s]\", fontsize=18)\n",
    "plt.ylabel(r\"$x(t)$\", fontsize=18)\n",
    "plt.show()"
   ]
  },
  {
   "cell_type": "markdown",
   "metadata": {},
   "source": [
    "- For the rest of the lab, we consider a limited portion of the signal, composed of `N` samples."
   ]
  },
  {
   "cell_type": "code",
   "execution_count": null,
   "metadata": {},
   "outputs": [],
   "source": [
    "N = 2**15\n",
    "x = x[:N]"
   ]
  },
  {
   "cell_type": "code",
   "execution_count": null,
   "metadata": {},
   "outputs": [],
   "source": [
    "plt.figure()\n",
    "plt.plot(x)\n",
    "plt.grid()\n",
    "plt.xlabel(\"Sample index\")\n",
    "plt.ylabel(\"Amplitude\")\n",
    "plt.title(\"Bird signal\")\n",
    "plt.show()"
   ]
  },
  {
   "cell_type": "markdown",
   "metadata": {},
   "source": [
    "### Fourier transform of the signal\n",
    "\n",
    "One can first compute the discrete Fourier transform of the signal and display its modulus to have an idea about the distribution of its energy in the frequency space (remember that $S_x(\\nu) = |X(\\nu)|^2$ for continous-time signal of finite energy, with $S_x$ the energy spectral density of $x$). \n",
    "\n",
    "The frequencies at which the discrete Fourier transform is computed go from $0$ to $(N-1)\\frac{f_s}{N}$ (with $n$ the number of signal samples), with a regular frequency step $\\frac{f_s}{N}$."
   ]
  },
  {
   "cell_type": "code",
   "execution_count": null,
   "metadata": {},
   "outputs": [],
   "source": [
    "Fx = np.fft.fft(x)\n",
    "\n",
    "# list of frequencies associated with the DFT\n",
    "freq = np.arange(0, N) * (fs / N)\n",
    "\n",
    "plt.figure()\n",
    "plt.plot(freq, np.abs(Fx))\n",
    "plt.xlabel(\"Frequency [Hz]\")\n",
    "plt.ylabel(r\"$|Fx|$\")\n",
    "plt.grid()\n",
    "plt.show()"
   ]
  },
  {
   "cell_type": "markdown",
   "metadata": {},
   "source": [
    "For a better readability and to highlight the Hermitian symmetry of the Fourier transform of real signals, the `np.fft.fftshift` function centers frequencies around $0$, between $ -\\frac{f_s}{2} $ and $ (N-1)\\frac{f_s}{2N}$.\n",
    "\n",
    "One can use the `np.fft.fftfreq` function to automatically access the associated list of frequencies.\n",
    "\n",
    "> *Remark*: note that the `np.fft.fftfreq` function produces frequencies from 0 to $f_s/2$ followed by frequencies from $-f_s/2$ to $0$."
   ]
  },
  {
   "cell_type": "code",
   "execution_count": null,
   "metadata": {},
   "outputs": [],
   "source": [
    "Fx_shift = np.fft.fftshift(Fx)\n",
    "freq = np.fft.fftshift(np.fft.fftfreq(N, d=1.0 / fs))\n",
    "\n",
    "plt.figure()\n",
    "plt.plot(freq, abs(Fx_shift))\n",
    "plt.xlabel(\"Frequency [Hz]\")\n",
    "plt.ylabel(r\"$|Fx|$\")\n",
    "plt.grid()\n",
    "plt.show()"
   ]
  },
  {
   "cell_type": "markdown",
   "metadata": {},
   "source": [
    "### Exercise 1 <a id=\"ex1\"></a> [(&#8593;)](#content)\n",
    "1. What is the value of the sampling frequency `fs` used above? What does it correspond to?\n",
    "2. What are the characteristic frequency bands of the bird song studied here?"
   ]
  },
  {
   "cell_type": "markdown",
   "metadata": {},
   "source": [
    "- <p style=\"color:rgb(137, 207, 240);\">Your answers to exercise 1...</p>"
   ]
  },
  {
   "cell_type": "markdown",
   "metadata": {},
   "source": [
    "---\n",
    "## Section 2 : Fourier analysis of segments <a id=\"section2\"></a> [(&#8593;)](#content)"
   ]
  },
  {
   "cell_type": "markdown",
   "metadata": {},
   "source": [
    "The Fourier transform only gives access to a global information on the frequency content of the signal. A \"local\" Fourier analysis would be useful to have a more precise description of the sound, such as local amplitude and local frequency variations (local in the temporal domain).\n",
    "\n",
    "- In this section, we will compute the Fourier transform of various segments of the signal, centered around time instants `tk`, and represent its modulus to illustrate the variations of the local frequency content of the signal across time. Detailed steps are reported at the end of this section.\n",
    "- We will consider windowed segments of the signal `w*x`, with `w` a Gaussian window centered in `tk` containing $2M+1$ samples, with $M=400$ and standard deviation $\\sigma = 200$.\n",
    "    \n",
    "> **Indication :** to build a Gaussian window, use [the function `scipy.signal.get_window`](\n",
    "https://docs.scipy.org/doc/scipy/reference/signal.html#window-functions).\n",
    "> Useful code examples are given below."
   ]
  },
  {
   "cell_type": "code",
   "execution_count": null,
   "metadata": {},
   "outputs": [],
   "source": [
    "t = np.arange(0, x.size) / fs  # list of times considered\n",
    "\n",
    "# reference time sample\n",
    "# corresponds to the time instant t0 = (n0-1)/fs\n",
    "n0 = 10000\n",
    "\n",
    "# half width of the analysing window\n",
    "M = 400\n",
    "\n",
    "# number of samples considered per segment\n",
    "L = 2 * M + 1\n",
    "\n",
    "# sample indices of the selected segment\n",
    "sel = np.arange(n0 - M, n0 + M + 1, 1)\n",
    "\n",
    "# generating a Gaussian time-window with variance sigma\n",
    "sigma = 200\n",
    "gauss_win = sg.get_window((\"gaussian\", sigma), L)"
   ]
  },
  {
   "cell_type": "markdown",
   "metadata": {},
   "source": [
    "### Displaying the window as a function of time"
   ]
  },
  {
   "cell_type": "code",
   "execution_count": null,
   "metadata": {},
   "outputs": [],
   "source": [
    "plt.figure()\n",
    "plt.plot(t[sel], gauss_win)\n",
    "plt.xlabel(\"Time [s]\")\n",
    "plt.ylabel(\"Window amplitude\")\n",
    "plt.grid()\n",
    "plt.show()"
   ]
  },
  {
   "cell_type": "markdown",
   "metadata": {},
   "source": [
    "### Extraction of a windowed signal segment for local Fourier analysis\n",
    "\n",
    "Segment extraction and multiplication with the observation window centered around the sample $n_0$ (corresponding time insntant $t_0 = (n_0-1)/f_s$)."
   ]
  },
  {
   "cell_type": "code",
   "execution_count": null,
   "metadata": {},
   "outputs": [],
   "source": [
    "x_segment = gauss_win * x[sel]\n",
    "\n",
    "plt.figure()\n",
    "plt.plot(t[sel], x_segment)\n",
    "plt.xlabel(\"Time [s]\")\n",
    "plt.ylabel(\"Amplitude of $wx$\")\n",
    "plt.title(\"Signal segment around $t_0$={0:1.2f} s\".format(t[n0]))\n",
    "plt.grid()\n",
    "plt.show()"
   ]
  },
  {
   "cell_type": "markdown",
   "metadata": {},
   "source": [
    "### Amplitude of the DFT coefficients of the windowed time-segment"
   ]
  },
  {
   "cell_type": "code",
   "execution_count": null,
   "metadata": {},
   "outputs": [],
   "source": [
    "Fx_segment = np.fft.fftshift(np.fft.fft(x_segment))\n",
    "freq = np.fft.fftshift(np.fft.fftfreq(Fx_segment.size, d=1.0 / fs))\n",
    "\n",
    "plt.figure()\n",
    "plt.plot(freq, np.abs(Fx_segment))\n",
    "plt.xlabel(\"Frequency [Hz]\")\n",
    "plt.ylabel(r\"$|F(wx)|$\")\n",
    "plt.title(\"Spectrum of the time segment around $t_0$={0:1.2f} s\".format(t[n0]))\n",
    "plt.grid()\n",
    "plt.show()"
   ]
  },
  {
   "cell_type": "markdown",
   "metadata": {},
   "source": [
    "### Exercice 2 <a id=\"ex2\"></a> [(&#8593;)](#content)"
   ]
  },
  {
   "cell_type": "markdown",
   "metadata": {},
   "source": [
    "1. Adapting the code above, fompute the Fourier transform of a segment of the signal around different values of `t0` (corresponding to the time sample `n0 = t0*fs`), for `n0` = 1000 to 10000 in steps of 1000. Use a Gaussian window of width $ 2M + 1 $ samples, with $ M = 400 $ and $ \\sigma = 200 $.\n",
    "   \n",
    "2. Observe the results obtained and comment.\n",
    "\n",
    "3. What does the segmented analysis highlight?\n",
    "\n",
    "4. Display the Gaussian window for different values of $\\sigma$ ($=50, 100$ et $200$ for instance) as well as its product with the local segment of signal `x[sel]` around the sample $n_0 = 10000$.\n",
    "\n",
    "5. For each value of $\\sigma$ (width of the Gaussian window), compute the Fourier transform of the window. Observe & comment.\n",
    "\n",
    "6. Compute the Fourier transform of the segment of signal around the sample $n_0 = 10000$ obtained in question 4. (i.e., for the different values of $\\sigma$). Observe and comment.\n",
    "\n",
    "7. Why do we multiply the segment of signal with a Gaussian (or other) window before computing its Fourier transform ? \n",
    "    > Indication: Compare the modulus of the DFT obtained with and without the Gaussian window. Focus on a few frequencies for the comparison.\n",
    "\n",
    "8. For $\\sigma=200$, write a `for` loop to repeat the previous analysis on one or two segments at various instants $t_k = n_k / f_s$, for $n_k=10000$ to $n_k=20000$ with a step of $5000$.\n",
    "\n",
    "9. Using the code below, represent the sum of all these spectra altogether on one graph. What do you notice in comparison with the full spectrum of the signal $x$ displayed earlier?"
   ]
  },
  {
   "cell_type": "markdown",
   "metadata": {},
   "source": [
    "- <p style=\"color:rgb(137, 207, 240);\">Your answers to exercise 2...</p>\n",
    "- <p style=\"color:rgb(137, 207, 240);\">Your answers to exercise 3...</p>\n",
    "- <p style=\"color:rgb(137, 207, 240);\">Your answers to exercise 5...</p>\n",
    "- <p style=\"color:rgb(137, 207, 240);\">Your answers to exercise 6...</p>\n",
    "- <p style=\"color:rgb(137, 207, 240);\">Your answers to exercise 7...</p>\n",
    "- <p style=\"color:rgb(137, 207, 240);\">Your answers to exercise 9...</p>"
   ]
  },
  {
   "cell_type": "code",
   "execution_count": null,
   "metadata": {
    "scrolled": true
   },
   "outputs": [],
   "source": [
    "# Indication to sum several spectra from successive time segments\n",
    "\n",
    "# half width of the analysing window\n",
    "M = 400\n",
    "\n",
    "# number of samples considered per segment\n",
    "L = 2 * M + 1\n",
    "\n",
    "# generating a Gaussian time-window with variance sigma\n",
    "sigma = 200\n",
    "gauss_win = sg.get_window((\"gaussian\", sigma), L)\n",
    "freq = np.fft.fftshift(np.fft.fftfreq(L, d=1.0 / fs))\n",
    "\n",
    "\n",
    "# indices of the samples composing the selected segment\n",
    "n0 = M\n",
    "sel = np.arange(n0 - M, n0 + M + 1, 1)\n",
    "x_segment = gauss_win * x[sel]\n",
    "Xf_sum = np.fft.fftshift(np.fft.fft(x_segment))\n",
    "\n",
    "# loop over successive segments, spaced by L samples\n",
    "for n0 in range(M, len(x) - L, M):\n",
    "    # indices of the samples composing the selected segment\n",
    "    sel = np.arange(n0 - M, n0 + M + 1, 1)\n",
    "    x_segment = gauss_win * x[sel]\n",
    "    Xf_sum += np.fft.fftshift(np.fft.fft(x_segment))\n",
    "abs_Xf_sum = np.abs(Xf_sum)"
   ]
  },
  {
   "cell_type": "code",
   "execution_count": null,
   "metadata": {},
   "outputs": [],
   "source": [
    "plt.figure()\n",
    "plt.plot(freq, abs_Xf_sum)\n",
    "plt.xlabel(\"Frequency [Hz]\", fontsize=18)\n",
    "plt.ylabel(r\"$| \\sum_{q} F (w_q x) |$\", fontsize=18)\n",
    "plt.show()"
   ]
  },
  {
   "cell_type": "markdown",
   "metadata": {},
   "source": [
    "### Exercise 3 : A dynamic plot of the Short-Time Fourier Transform <a id=\"ex3\"></a> [(&#8593;)](#content) \n",
    "\n",
    "1. Move the cursor in the figure below to explore the signal in time and frequency\n",
    "\n",
    "2. Briefly comment on your observations, in line with exercise 2."
   ]
  },
  {
   "cell_type": "markdown",
   "metadata": {},
   "source": [
    "<p style=\"color:rgb(137, 207, 240);\">Your answers...</p>"
   ]
  },
  {
   "cell_type": "code",
   "execution_count": null,
   "metadata": {},
   "outputs": [],
   "source": [
    "fs = 44100\n",
    "N = x.size\n",
    "xmin = np.min(x)\n",
    "xmax = np.max(x)\n",
    "\n",
    "M = 200\n",
    "L = 2 * M + 1\n",
    "sigma = 100\n",
    "gauss_win = sg.get_window((\"gaussian\", sigma), L)\n",
    "freq = np.fft.fftshift(np.fft.fftfreq(L, d=1.0 / fs))"
   ]
  },
  {
   "cell_type": "code",
   "execution_count": null,
   "metadata": {},
   "outputs": [],
   "source": [
    "# interactive plot\n",
    "# DO NOT MODIFY THIS CELL\n",
    "\n",
    "\n",
    "def local_dft_magnitude(\n",
    "    x: np.ndarray,\n",
    "    xmin: float,\n",
    "    xmax: float,\n",
    "    t: np.ndarray,\n",
    "    freq: np.ndarray,\n",
    "    window,\n",
    "    center: int,\n",
    "):\n",
    "    L = window.size\n",
    "    half_width = L // 2\n",
    "    select = np.s_[center - half_width : center + half_width + 1]\n",
    "    x_segment = window * x[select]\n",
    "    abs_Fx = np.fft.fftshift(np.abs(np.fft.fft(x_segment)))\n",
    "\n",
    "    fig = plt.figure(figsize=(18, 6), layout=\"constrained\")\n",
    "    gs = GridSpec(3, 2, figure=fig)\n",
    "    ax1 = fig.add_subplot(gs[0, :])\n",
    "    ax2 = fig.add_subplot(gs[1, 0])\n",
    "    ax3 = fig.add_subplot(gs[1, 1])\n",
    "    ax4 = fig.add_subplot(gs[2, :])\n",
    "\n",
    "    ax1.plot(t, x)\n",
    "    ax1.ticklabel_format(style=\"scientific\", axis=\"y\", scilimits=(1, 2))\n",
    "    ax1.vlines(\n",
    "        [t[center - half_width], t[center + half_width]],\n",
    "        xmin,\n",
    "        xmax,\n",
    "        transform=ax1.get_xaxis_transform(),\n",
    "        colors=\"r\",\n",
    "    )\n",
    "    ax1.set_xlabel(\"Time [s]\")\n",
    "    ax1.set_ylabel(r\"$x(t)$\")\n",
    "    ax1.grid(True)\n",
    "\n",
    "    ax2.plot(t[select], x[select])\n",
    "    ax2.set_ylim(xmin, xmax)\n",
    "    ax2.ticklabel_format(style=\"scientific\", axis=\"y\", scilimits=(1, 2))\n",
    "    ax2.set_xlabel(\"Time [s]\")\n",
    "    ax2.set_ylabel(r\"Segment $x(t)$\")\n",
    "    ax2.grid(True)\n",
    "\n",
    "    ax3.plot(t[select], x_segment)\n",
    "    ax3.set_ylim(xmin, xmax)\n",
    "    ax3.ticklabel_format(style=\"scientific\", axis=\"y\", scilimits=(1, 2))\n",
    "    ax3.set_xlabel(\"Time [s]\")\n",
    "    ax3.set_ylabel(r\"$w_{t_0}(t) x(t)$\")\n",
    "    ax3.grid(True)\n",
    "\n",
    "    ax4.plot(freq, abs_Fx)\n",
    "    # ax4.set_ylim(fmin, fmax)\n",
    "    ax4.ticklabel_format(style=\"scientific\", axis=\"both\", scilimits=(1, 2))\n",
    "    ax4.set_ylabel(r\"$|F(x w_{t_0})|$\")\n",
    "    ax4.set_xlabel(\"Frequency [Hz]\")\n",
    "    ax4.grid(True)\n",
    "\n",
    "    plt.show()\n",
    "\n",
    "\n",
    "interact(\n",
    "    local_dft_magnitude,\n",
    "    x=fixed(x),\n",
    "    xmin=fixed(xmin),\n",
    "    xmax=fixed(xmax),\n",
    "    t=fixed(t),\n",
    "    freq=fixed(freq),\n",
    "    window=fixed(gauss_win),\n",
    "    center=(M, N - L + 1, 1000),\n",
    ")"
   ]
  },
  {
   "cell_type": "markdown",
   "metadata": {},
   "source": [
    "---\n",
    "## Section 3: Introduction to time-frequency analysis <a id=\"section3\"></a> [(&#8593;)](#content)"
   ]
  },
  {
   "cell_type": "markdown",
   "metadata": {},
   "source": [
    "### Short-Time Fourier Transform: spectrogram & reconstruction"
   ]
  },
  {
   "cell_type": "markdown",
   "metadata": {},
   "source": [
    "The computation of the *Short-Time Fourier Transform* (STFT) first consists in dividing the time signal into short, overlapping segments of equal length. A Fourier transform is then computed separately for each of the extracted segments. The STFT gathers local Fourier transforms (vertical frequency axis) calculated on regularly spaced time windows (horizontal time axis) so as to deduce the **spectrogram**, a 2D visual heat map. It is defined as the squared modulus of the STFT, interpreted as a time-frequency density of energy.\n",
    "\n",
    "In general, windows overlap in time, which leads to a certain redundancy enhancing the readability of the time-frequency information. This redundant representation can be reversed (_pseudo-inverse_) to reconstruct the original signal. One can show that the energy is preserved from the time to the frequency domain (*energy conservation*).\n",
    "\n",
    "The parameters to compute a spectrogram parameters are:\n",
    "\n",
    "* the shape of the analysis window;\n",
    "* the window size;\n",
    "* the time spacing between 2 successive windows, denoted `spacing` here, which also conditions the amount of overlap between consecutive windows.\n",
    "\n",
    "The `spectrogram` function directly provides the squared magnitude of the Short-Time Fourier Transform (STFT). The vertical axis corresponds to the positive frequencies between $0$ and $ \\frac{f_s}{2}$, and the horizontal axis to temporal samples.\n",
    "\n",
    "A code example is given below."
   ]
  },
  {
   "cell_type": "code",
   "execution_count": null,
   "metadata": {},
   "outputs": [],
   "source": [
    "fs, x = scwav.read(\"sounds/bird.wav\")\n",
    "\n",
    "# length of the extracted eportion of the signal\n",
    "N = 14000\n",
    "x = x[0:N]\n",
    "t = np.arange(0, N) / fs"
   ]
  },
  {
   "cell_type": "code",
   "execution_count": null,
   "metadata": {},
   "outputs": [],
   "source": [
    "Audio(x, rate=fs)"
   ]
  },
  {
   "cell_type": "markdown",
   "metadata": {},
   "source": [
    "Computing the STFT transform of the signal:"
   ]
  },
  {
   "cell_type": "code",
   "execution_count": null,
   "metadata": {},
   "outputs": [],
   "source": [
    "# window width (usualy taken as a power of 2)\n",
    "width = 512\n",
    "\n",
    "# number of samples between 2 successive segments\n",
    "spacing = width / 8\n",
    "\n",
    "# window used\n",
    "window = \"hann\"\n",
    "\n",
    "# computing the spectrogram\n",
    "f_Sx, t_Sx, Sx = sg.spectrogram(\n",
    "    x, fs, window=\"hann\", nperseg=width, noverlap=width - spacing\n",
    ")"
   ]
  },
  {
   "cell_type": "markdown",
   "metadata": {},
   "source": [
    "**Graphical representation of the analysis window**"
   ]
  },
  {
   "cell_type": "code",
   "execution_count": null,
   "metadata": {},
   "outputs": [],
   "source": [
    "w = sg.get_window(\"hann\", width)\n",
    "plt.plot(w)\n",
    "plt.grid()\n",
    "plt.xlabel(\"Sample index $n$\")\n",
    "plt.ylabel(r\"$w[n]$\")\n",
    "plt.title(\"Hann window (width={0})\".format(width))\n",
    "plt.show()"
   ]
  },
  {
   "cell_type": "markdown",
   "metadata": {},
   "source": [
    "**Graphical representation of the spectrogram**"
   ]
  },
  {
   "cell_type": "code",
   "execution_count": null,
   "metadata": {},
   "outputs": [],
   "source": [
    "plt.figure(figsize=(10, 10))\n",
    "\n",
    "# signal in the time domain\n",
    "plt.subplot(211)\n",
    "plt.plot(t, x)\n",
    "plt.ylabel(\"Amplitude\")\n",
    "plt.xlabel(\"Time [s]\")\n",
    "plt.grid()\n",
    "\n",
    "# associated spectrogram\n",
    "plt.subplot(212)\n",
    "ax = plt.pcolormesh(t_Sx, f_Sx, Sx, norm=LogNorm())\n",
    "plt.ylabel(\"Frequency [Hz]\")\n",
    "plt.xlabel(\"Time [s]\")\n",
    "plt.grid()\n",
    "plt.colorbar()\n",
    "plt.show()"
   ]
  },
  {
   "cell_type": "markdown",
   "metadata": {},
   "source": [
    "### Exercice 4 <a id=\"ex4\"></a> [(&#8593;)](#content)\n",
    "1. How should the axes of the spectrogram be read and interpreted? Justify the range of frequencies covered. Specify how the colormap should be interpreted. \n",
    "\n",
    "2. Specify how the horizontal and vertical axes of the spectrogram are indexed and discretized. Express the number of elements along each axis in function of the window size $L$, the overlap size $S$ and the number of samples $N$ is the signal. \n",
    "\n",
    "3. Plot the spectrograms of the `glockenspiel_mono.wav` and `desactive_mono.wav` sounds.\n",
    "provided  in the `sounds` folder. Observe and comment.\n",
    "\n",
    "4. The `spectrogram` functions requires an optional keyword parameter `window`. Try two other windows (see [associated documentation online](https://docs.scipy.org/doc/scipy/reference/signal.html#window-functions)) and briefly compare the resulting spectrograms."
   ]
  },
  {
   "cell_type": "markdown",
   "metadata": {},
   "source": [
    "- <p style=\"color:rgb(137, 207, 240);\">Your answers...</p>"
   ]
  },
  {
   "cell_type": "code",
   "execution_count": null,
   "metadata": {},
   "outputs": [],
   "source": [
    "# your codes"
   ]
  },
  {
   "cell_type": "markdown",
   "metadata": {},
   "source": [
    "---\n",
    "## Section 4: Analysis of some signals <a id=\"section4\"></a> [(&#8593;)](#content)"
   ]
  },
  {
   "cell_type": "markdown",
   "metadata": {},
   "source": [
    "### Exercise 5: time-frequency analysis of sine waves <a id=\"ex5\"></a> [(&#8593;)](#content)\n",
    "Consider the signal `x` stored in the `signal_2sinus.mat` file loaded below, sampled at $f_s =4096$ Hz.\n",
    "\n",
    "1. Study this signal and its spectrogram with a window of your choice. To this aim, you may observe the spectrogram for different windows and widths, for instance `width=64`, `128, 256, 512, 1024`. Which choice of window and width allows the 2 frequencies present in this signal to be properly distinguished? Briefly justify your answer.\n",
    "\n",
    "2. What is the content of this signal ? Try to be as precise as possible in your description, including characteristic frequencies. Briefly comment and explain your observations.  "
   ]
  },
  {
   "cell_type": "code",
   "execution_count": null,
   "metadata": {},
   "outputs": [],
   "source": [
    "# Load signal x\n",
    "# load the signal x and the times instants associated with the samples\n",
    "data = scio.loadmat(\"sounds/signal_2sinus.mat\")\n",
    "\n",
    "t = data[\"t\"][0]\n",
    "x = data[\"x\"][0]\n",
    "fs = data[\"Fe\"][0][0]\n",
    "\n",
    "plt.figure()\n",
    "plt.plot(t, x)\n",
    "plt.xlabel(r\"$t$ [s]\")\n",
    "plt.ylabel(r\"$x(t)$\")\n",
    "plt.show()"
   ]
  },
  {
   "cell_type": "code",
   "execution_count": null,
   "metadata": {},
   "outputs": [],
   "source": [
    "Audio(x, rate=fs)"
   ]
  },
  {
   "cell_type": "code",
   "execution_count": null,
   "metadata": {},
   "outputs": [],
   "source": [
    "width = 128\n",
    "window = sg.get_window(\"hann\", width)\n",
    "\n",
    "f_Sx, t_Sx, Sx = sg.spectrogram(\n",
    "    x, fs=fs, window=window, nperseg=width, noverlap=7 * width / 8\n",
    ")"
   ]
  },
  {
   "cell_type": "code",
   "execution_count": null,
   "metadata": {},
   "outputs": [],
   "source": [
    "# the top of the spectrogram corresponds to the high frequencies\n",
    "plt.figure(figsize=(12.7, 6))\n",
    "plt.pcolormesh(t_Sx, f_Sx, Sx, norm=LogNorm())\n",
    "plt.ylabel(\"Frequency [Hz]\")\n",
    "plt.xlabel(\"Time [s]\")\n",
    "plt.grid()\n",
    "plt.colorbar()\n",
    "plt.show()"
   ]
  },
  {
   "cell_type": "markdown",
   "metadata": {},
   "source": [
    "### [Bonus] Exercice 6: time-frequency analysis of hyperbolic chirps <a id=\"ex6\"></a> [(&#8593;)](#content)\n",
    "\n",
    "We consider the superposition of 2 \"chirps\", *i.e.*, signals whose frequency varies as an hyperbolic function of time (see the help of the `chirp` function in Python). As a result, we face a resolution problem, since the width of the window is constant for the entire signal, and may thus not be suitable for all the time instants.\n",
    "\n",
    "The ultrasonic cries produced by bats typically have a similar structure, as well as gravitational waves observed in astrophysics."
   ]
  },
  {
   "cell_type": "code",
   "execution_count": null,
   "metadata": {},
   "outputs": [],
   "source": [
    "fs = 4096\n",
    "T = 3\n",
    "f1_min, f1_max = 200, 1600\n",
    "f2_min, f2_max = 250, 1650\n",
    "\n",
    "t = np.linspace(0, 3, fs * T)\n",
    "y1 = sg.chirp(t, f1_min, T, f2_max, method=\"hyperbolic\")\n",
    "y2 = sg.chirp(t, f2_min, T, f2_max, method=\"hyperbolic\")\n",
    "y = y1 + y2"
   ]
  },
  {
   "cell_type": "code",
   "execution_count": null,
   "metadata": {},
   "outputs": [],
   "source": [
    "Audio(y, rate=fs)"
   ]
  },
  {
   "cell_type": "code",
   "execution_count": null,
   "metadata": {},
   "outputs": [],
   "source": [
    "width = 128\n",
    "window = sg.get_window(\"hann\", width)\n",
    "\n",
    "f_Sy, t_Sy, Sy = sg.spectrogram(\n",
    "    y, fs=fs, window=window, nperseg=width, noverlap=7 * width / 8\n",
    ")"
   ]
  },
  {
   "cell_type": "code",
   "execution_count": null,
   "metadata": {},
   "outputs": [],
   "source": [
    "plt.figure()\n",
    "plt.pcolormesh(t_Sy, f_Sy, Sy, norm=LogNorm())\n",
    "plt.ylabel(\"Frequency [Hz]\")\n",
    "plt.xlabel(\"Time [s]\")\n",
    "plt.grid()\n",
    "plt.colorbar()\n",
    "plt.show()"
   ]
  },
  {
   "cell_type": "markdown",
   "metadata": {},
   "source": [
    "#### Questions\n",
    "\n",
    "1. Observe the results obtained by the above analysis. What is the nature of this signal?\n",
    "2. Observe the quality of the spectrogram using different windows. Modify the width of the window, and highlight situations where the spectrogram allows or doesn't allow the different components of the signal to be distinguished."
   ]
  },
  {
   "cell_type": "markdown",
   "metadata": {},
   "source": [
    "- <p style=\"color:rgb(137, 207, 240);\">Your answers...</p>"
   ]
  }
 ],
 "metadata": {
  "kernelspec": {
   "display_name": "Python 3 (ipykernel)",
   "language": "python",
   "name": "python3"
  },
  "language_info": {
   "codemirror_mode": {
    "name": "ipython",
    "version": 3
   },
   "file_extension": ".py",
   "mimetype": "text/x-python",
   "name": "python",
   "nbconvert_exporter": "python",
   "pygments_lexer": "ipython3",
   "version": "3.10.12"
  },
  "varInspector": {
   "cols": {
    "lenName": 16,
    "lenType": 16,
    "lenVar": 40
   },
   "kernels_config": {
    "python": {
     "delete_cmd_postfix": "",
     "delete_cmd_prefix": "del ",
     "library": "var_list.py",
     "varRefreshCmd": "print(var_dic_list())"
    },
    "r": {
     "delete_cmd_postfix": ") ",
     "delete_cmd_prefix": "rm(",
     "library": "var_list.r",
     "varRefreshCmd": "cat(var_dic_list()) "
    }
   },
   "types_to_exclude": [
    "module",
    "function",
    "builtin_function_or_method",
    "instance",
    "_Feature"
   ],
   "window_display": false
  }
 },
 "nbformat": 4,
 "nbformat_minor": 4
}
