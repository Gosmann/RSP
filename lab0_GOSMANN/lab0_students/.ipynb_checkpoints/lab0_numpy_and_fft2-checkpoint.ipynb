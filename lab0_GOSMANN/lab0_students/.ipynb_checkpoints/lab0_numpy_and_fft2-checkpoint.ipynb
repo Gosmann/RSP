{
 "cells": [
  {
   "cell_type": "markdown",
   "metadata": {},
   "source": [
    "# Representation of signals & inverse problems - G1-G2\n",
    "\n",
    "---\n",
    "## Guidelines (read carefully before starting)\n",
    "\n",
    "**Objective**: revision exercises about Python/numpy and the 2D discrete Fourier transform based on the Fast Fourier Transform (FFT) algorithm.\n",
    "\n",
    "**Guidelines**: after retrieving the resources for the lab on moodle:\n",
    "- place the .zip archive in a local folder (`Computer -> Documents/Python/`);\n",
    "- unzip the archive `.zip`;\n",
    "- rename the folder with the convention `lab0_Name1_Name2`;\n",
    "- duplicate the notebook file and rename it with the convention `lab0_Name1_Name2.ipynb`;\n",
    "- from Centrale Lille computers: at the end of the session, do not forget to transfer your work to your network space (do not leave your work on the C: drive)."
   ]
  },
  {
   "cell_type": "markdown",
   "metadata": {},
   "source": [
    "## Contents <a id=\"content\"></a>\n",
    "\n",
    "1. [Exercise 1](#section1): A very short on `numpy` and `matplotlib` tutorial \n",
    "2. [Exercise 2](#section2): Fourier analysis of an image\n",
    "   - [Question 1](#question1)\n",
    "   - [Question 2](#question2) \n",
    "   - [Question 3](#question3) \n",
    "   - [Question 4](#question4)\n",
    "   - [Bonus](#bonus)  "
   ]
  },
  {
   "cell_type": "markdown",
   "metadata": {},
   "source": [
    "## Configuration "
   ]
  },
  {
   "cell_type": "code",
   "execution_count": null,
   "metadata": {},
   "outputs": [],
   "source": [
    "import matplotlib as mpl\n",
    "import matplotlib.image as mpimg\n",
    "import matplotlib.pyplot as plt\n",
    "import numpy as np\n",
    "from mpl_toolkits.axes_grid1 import ImageGrid\n",
    "\n",
    "# make sure the notebook reloads the module each time we modify it\n",
    "%load_ext autoreload\n",
    "%autoreload 2\n",
    "\n",
    "# Uncomment the next line if you want to be able to zoom on plots (one of the options below)\n",
    "# %matplotlib widget\n",
    "# %matplotlib notebook\n",
    "%matplotlib inline\n",
    "\n",
    "SMALL_SIZE = 16\n",
    "MEDIUM_SIZE = 20\n",
    "BIGGER_SIZE = 24\n",
    "\n",
    "plt.rc(\"font\", size=SMALL_SIZE)  # controls default text sizes\n",
    "plt.rc(\"axes\", titlesize=SMALL_SIZE)  # fontsize of the axes title\n",
    "plt.rc(\"axes\", labelsize=MEDIUM_SIZE)  # fontsize of the x and y labels\n",
    "plt.rc(\"xtick\", labelsize=SMALL_SIZE)  # fontsize of the tick labels\n",
    "plt.rc(\"ytick\", labelsize=SMALL_SIZE)  # fontsize of the tick labels\n",
    "plt.rc(\"legend\", fontsize=SMALL_SIZE)  # legend fontsize\n",
    "plt.rc(\"figure\", titlesize=BIGGER_SIZE)  # fontsize of the figure title"
   ]
  },
  {
   "cell_type": "markdown",
   "metadata": {},
   "source": [
    "---\n",
    "## Exercise 1: A very short `numpy` and `matplotlib` tutorial <a id=\"section1\"></a> [(&#8593;)](#content)\n",
    "\n",
    "This section is devoted to refreshers/complements about the Python programming language, based on the [Scientific Python lecture](https://lectures.scientific-python.org/)\n",
    "\n",
    "0. You can access the documentation of a specific Python function within a code cell by pressing `Maj+Tab+Tab` when the cursor is on the desired function. Try it out below"
   ]
  },
  {
   "cell_type": "code",
   "execution_count": null,
   "metadata": {},
   "outputs": [],
   "source": [
    "np.sum"
   ]
  },
  {
   "cell_type": "markdown",
   "metadata": {},
   "source": [
    "\n",
    "\n",
    "1. If you are a true beginner in Python, go at least through [sections 1.2.1 to 1.2.5](https://lectures.scientific-python.org/intro/language/python_language.html) devoted to control flow instructions, functions and Python modules and packages.\n",
    "\n",
    "2. `numpy` is a scientific computing library in Python. In particular, it offers conveninet, optimized routines for linear algebra (i.e., encode vector, matrices, tensors, on operations on it). \n",
    "   1. If you are new to `numpy`, go through sections [1.3.1 to 1.3.2]()\n",
    "   2. Solve [exercise 1.3.5.1](https://lectures.scientific-python.org/intro/numpy/exercises.html#array-manipulations).\n",
    "\n",
    "3. `matplotlib` is a Python library to display graphs and images. Take a quick look at [section 1.4](https://lectures.scientific-python.org/intro/matplotlib/index.html#simple-plot), mostly to identify how to make a simple plot and create subplots. Such instructions will be repeatedly used in the other labs.\n",
    "> Indication: do not hesitate to take a look at the examples from the documentation, for example [here](https://matplotlib.org/stable/gallery/pyplots/pyplot_simple.html) and [there](https://matplotlib.org/stable/gallery/axes_grid1/demo_axes_divider.html)."
   ]
  },
  {
   "cell_type": "code",
   "execution_count": null,
   "metadata": {},
   "outputs": [],
   "source": [
    "## code playground"
   ]
  },
  {
   "cell_type": "markdown",
   "metadata": {},
   "source": [
    "---\n",
    "## Exercise 2: Fourier analysis of an image <a id=\"section2\"></a> [(&#8593;)](#content)"
   ]
  },
  {
   "cell_type": "markdown",
   "metadata": {},
   "source": [
    "### Loading an image"
   ]
  },
  {
   "cell_type": "code",
   "execution_count": null,
   "metadata": {},
   "outputs": [],
   "source": [
    "filename = \"img/chessboard.png\"\n",
    "x = mpimg.imread(filename)\n",
    "print(\"Image shape: {0}, maximum value: {1}\".format(x.shape, np.max(x)))"
   ]
  },
  {
   "cell_type": "code",
   "execution_count": null,
   "metadata": {},
   "outputs": [],
   "source": [
    "plt.figure()\n",
    "plt.imshow(x, cmap=\"gray\")\n",
    "plt.tight_layout()\n",
    "plt.colorbar()\n",
    "plt.axis(\"off\")\n",
    "# plt.savefig(\n",
    "#     \"chessboard.pdf\",\n",
    "#     transparent=True,\n",
    "#     bbox_inches=\"tight\",\n",
    "# )\n",
    "plt.show()"
   ]
  },
  {
   "cell_type": "markdown",
   "metadata": {},
   "source": [
    "### Displaying the absolute value Fourier coefficients\n",
    "\n",
    "The function `np.fft.fftshift` ([documentation here](https://numpy.org/doc/stable/reference/generated/numpy.fft.ifftshift.html)) modifies the order of the coefficients so that the pixel associated with the (0, 0) frequency is located at the center of the image, for this question in position (256, 256). "
   ]
  },
  {
   "cell_type": "code",
   "execution_count": null,
   "metadata": {},
   "outputs": [],
   "source": [
    "Fx = np.fft.fft2(x)\n",
    "Fx_shift = np.fft.fftshift(Fx)\n",
    "\n",
    "vmin = np.min(np.abs(Fx))\n",
    "vmax = np.max(np.abs(Fx))"
   ]
  },
  {
   "cell_type": "code",
   "execution_count": null,
   "metadata": {},
   "outputs": [],
   "source": [
    "fig = plt.figure(figsize=(15, 30))\n",
    "axs = ImageGrid(\n",
    "    fig,\n",
    "    111,\n",
    "    nrows_ncols=(1, 2),\n",
    "    axes_pad=0.15,\n",
    "    share_all=True,\n",
    "    cbar_location=\"right\",\n",
    "    cbar_mode=\"single\",\n",
    "    cbar_size=\"7%\",\n",
    "    cbar_pad=0.15,\n",
    ")\n",
    "axs[0].imshow(np.abs(Fx), vmin=vmin, vmax=vmax, cmap=plt.get_cmap(\"viridis\"))\n",
    "axs[0].set_title(r\"$|Fx|$ before fftshift\")\n",
    "axs[0].axis(\"off\")\n",
    "\n",
    "obj = axs[1].imshow(\n",
    "    np.abs(Fx_shift), vmin=vmin, vmax=vmax, cmap=plt.get_cmap(\"viridis\")\n",
    ")\n",
    "axs[1].set_title(r\"$|Fx|$ after fftshift\")\n",
    "axs[1].axis(\"off\")\n",
    "axs[1].cax.colorbar(obj)\n",
    "plt.show()"
   ]
  },
  {
   "cell_type": "markdown",
   "metadata": {},
   "source": [
    "### Question 1  <a id=\"question1\"></a> [(&#8593;)](#content)\n",
    "What do you notice with the above figure? Is it relevant? How could it possibly be improved?\n",
    "\n",
    "> *Indication*: zoom on the center of the image. Describe what you observe and comment."
   ]
  },
  {
   "cell_type": "markdown",
   "metadata": {},
   "source": [
    "- <p style=\"color:rgb(137, 207, 240);\">Your answers</p>"
   ]
  },
  {
   "cell_type": "markdown",
   "metadata": {},
   "source": [
    "---\n",
    "To improve the contrast, we will adopt a logarithmic scale to dislay intensity of the pixels: `norm=mpl.colors.LogNorm()`"
   ]
  },
  {
   "cell_type": "code",
   "execution_count": null,
   "metadata": {},
   "outputs": [],
   "source": [
    "plt.figure(figsize=(10, 6))\n",
    "plt.imshow(\n",
    "    np.abs(Fx_shift),\n",
    "    cmap=\"viridis\",\n",
    "    norm=mpl.colors.LogNorm(vmin=1e-5, vmax=vmax, clip=True),\n",
    ")\n",
    "plt.title(r\"$|Fx|$ after fftshift\")\n",
    "plt.colorbar()\n",
    "plt.show()"
   ]
  },
  {
   "cell_type": "markdown",
   "metadata": {},
   "source": [
    "### Question 2 <a id=\"question2\"></a> [(&#8593;)](#content)\n",
    "\n",
    "2.1. Take a look at the images from the `img` folder. Display the absolute value of the Fourier transform for 2 different images (if you selected a color (RGB) image, select only one of the slice). A color image is encoded in Python through a 3D `array` 3D, with the dimensions 0 and 1 corresponding to the spatial dimensions, and the dimension 2 gathering the 3 color channels (read (R), green (G), blue (B)). \n",
    "\n",
    "- Observe the bright pixels at the center of many of the figures representing the absolute value of the Fourier transform of a natural image. \n",
    "\n",
    "- What can you conclude about the distribution of the signal's energy in the 2D frequency plane?\n",
    "\n",
    "- Comment on the distribution of high intensity pixels in the Fourier domain, and relate you observations to the spatial content of the image (*i.e.*, in the original domain)?\n",
    "\n",
    "2.2\\. Check numerically that the 2D Fourier transform is separable, *i.e.*, that it can be computed with the successive application of two 1D Fourier transforms, along the horizontal axis and then the vertical axis (or in the opposite order).\n",
    "\n",
    "> **Hint**:\n",
    "> ```python\n",
    "> # To successively apply a 1D Fourier transform along one axis:\n",
    "> Fx_1d = np.fft.fft(x, n=None, axis=0, norm=None)   # vertical 1D FFT\n",
    "> Fx_1d = np.fft.fft(Fx_1d, n=None, axis=1, norm=None)  # horizontal 1D FFT\n",
    "> # Fx = # using directly a 2D FFT...\n",
    "> ```\n",
    "> Compare the 2 results, e.g., by computing the Frobenius norm between `Fx` and `Fx_1d`.\n",
    "\n",
    "2.3\\. Build an image composed of black and white stripes, and study its Fourier transform. Modify the size of the stripes, and comment on your obsevations.\n",
    "> **Hint**: building an image with vertical stripes 16-pixels wide:\n",
    ">\n",
    ">   ```python\n",
    ">   vertical_stripe = np.concatenate((np.ones([512,16]), np.zeros([512,16])), axis=1)\n",
    ">   vertical_stripes = np.tile(vertical_stripe, (1,16))\n",
    ">   ```\n",
    "\n",
    "2.4\\. Define a $512 \\times 512$ matrix containing only zeros. Set to 1 two pixels located in two positions which are symmetric with respect to the center of the image. Take the inverse Fourier transform of this image (using `np.fft.ifftshift` and `np.fft.ifft2`). Observe et comment."
   ]
  },
  {
   "cell_type": "markdown",
   "metadata": {},
   "source": [
    "- <p style=\"color:rgb(137, 207, 240);\">Your answers</p>"
   ]
  },
  {
   "cell_type": "code",
   "execution_count": null,
   "metadata": {},
   "outputs": [],
   "source": [
    "# your codes (illustration of your comments)"
   ]
  },
  {
   "cell_type": "markdown",
   "metadata": {},
   "source": [
    "----\n",
    "### Question 3 <a id=\"question3\"></a> [(&#8593;)](#content)\n",
    "\n",
    "3.1 Compare the Fourier transform of an image `x` and `y = x - np.mean(x)` (`y` has zero mean). Some helper code is provided below.\n",
    "\n",
    "3.2 Comment specifically on the amplitude of the frequency component (0, 0)."
   ]
  },
  {
   "cell_type": "code",
   "execution_count": null,
   "metadata": {},
   "outputs": [],
   "source": [
    "filename = \"img/chessboard.png\"\n",
    "x = mpimg.imread(filename)\n",
    "y = x - np.mean(x)"
   ]
  },
  {
   "cell_type": "code",
   "execution_count": null,
   "metadata": {},
   "outputs": [],
   "source": [
    "fig = plt.figure(figsize=(15, 30))\n",
    "\n",
    "vmin = np.min(x)\n",
    "vmax = np.max(x)\n",
    "\n",
    "axs = ImageGrid(\n",
    "    fig,\n",
    "    111,\n",
    "    nrows_ncols=(1, 2),\n",
    "    axes_pad=0.15,\n",
    "    share_all=True,\n",
    "    cbar_location=\"right\",\n",
    "    cbar_mode=\"single\",\n",
    "    cbar_size=\"7%\",\n",
    "    cbar_pad=0.15,\n",
    ")\n",
    "axs[0].imshow(x, vmin=vmin, vmax=vmax, cmap=plt.get_cmap(\"gray\"))\n",
    "axs[0].set_title(r\"$x$\")\n",
    "axs[0].axis(\"off\")\n",
    "\n",
    "obj = axs[1].imshow(y, vmin=vmin, vmax=vmax, cmap=plt.get_cmap(\"gray\"))\n",
    "axs[1].set_title(r\"$x - \\overline{x}$\")\n",
    "axs[1].axis(\"off\")\n",
    "axs[1].cax.colorbar(obj)\n",
    "plt.show()"
   ]
  },
  {
   "cell_type": "code",
   "execution_count": null,
   "metadata": {},
   "outputs": [],
   "source": [
    "# your code"
   ]
  },
  {
   "cell_type": "markdown",
   "metadata": {},
   "source": [
    "- <p style=\"color:rgb(137, 207, 240);\">Your answers</p>"
   ]
  },
  {
   "cell_type": "markdown",
   "metadata": {},
   "source": [
    "----\n",
    "### Question 4 <a id=\"question4\"></a> [(&#8593;)](#content)\n",
    "\n",
    "Let us define 2 square masks `H1` and `H2` directly in the Fourier domain."
   ]
  },
  {
   "cell_type": "code",
   "execution_count": null,
   "metadata": {},
   "outputs": [],
   "source": [
    "H1 = np.zeros([512, 512])\n",
    "delta = 32\n",
    "H1[256 - delta : 256 + delta, 256 - delta : 256 + delta] = 1\n",
    "H2 = 1 - H1"
   ]
  },
  {
   "cell_type": "markdown",
   "metadata": {},
   "source": [
    "4.1. Load any image in a variable `x`. Reconstruct the images `x1` and `x2` obtained by computing the inverse discrete Fourier transform of `H1*Fx` et `H2*Fx`, where `Fx` contains the discrete Fourier transform of `x`. \n",
    "\n",
    "4.2. Which operation have you just encoded? \n",
    "\n",
    "4.3. Observe the result of this operation on the `mandrill.png` image, and comment your observations."
   ]
  },
  {
   "cell_type": "markdown",
   "metadata": {},
   "source": [
    "- <p style=\"color:rgb(137, 207, 240);\">Your answer to question 2</p>\n",
    "- <p style=\"color:rgb(137, 207, 240);\">Your answer to question 3</p>"
   ]
  },
  {
   "cell_type": "code",
   "execution_count": null,
   "metadata": {},
   "outputs": [],
   "source": [
    "# codes"
   ]
  },
  {
   "cell_type": "markdown",
   "metadata": {},
   "source": [
    "---\n",
    "### Bonus <a id=\"bonus\"></a> [(&#8593;)](#content)"
   ]
  },
  {
   "cell_type": "markdown",
   "metadata": {},
   "source": [
    "Implement an isotropic version of the ideal low-pass and high-pass filters from exercise 2. This will correspond to replacing the rectangular filter template by a circular one, of radius `fc` (with `fc` the cutting frequency)."
   ]
  },
  {
   "cell_type": "markdown",
   "metadata": {},
   "source": [
    "<p style=\"color:rgb(137, 207, 240);\">Your answers</p>"
   ]
  },
  {
   "cell_type": "code",
   "execution_count": null,
   "metadata": {},
   "outputs": [],
   "source": [
    "# associated codes"
   ]
  }
 ],
 "metadata": {
  "kernelspec": {
   "display_name": "Python 3 (ipykernel)",
   "language": "python",
   "name": "python3"
  },
  "language_info": {
   "codemirror_mode": {
    "name": "ipython",
    "version": 3
   },
   "file_extension": ".py",
   "mimetype": "text/x-python",
   "name": "python",
   "nbconvert_exporter": "python",
   "pygments_lexer": "ipython3",
   "version": "3.10.12"
  },
  "varInspector": {
   "cols": {
    "lenName": 16,
    "lenType": 16,
    "lenVar": 40
   },
   "kernels_config": {
    "python": {
     "delete_cmd_postfix": "",
     "delete_cmd_prefix": "del ",
     "library": "var_list.py",
     "varRefreshCmd": "print(var_dic_list())"
    },
    "r": {
     "delete_cmd_postfix": ") ",
     "delete_cmd_prefix": "rm(",
     "library": "var_list.r",
     "varRefreshCmd": "cat(var_dic_list()) "
    }
   },
   "types_to_exclude": [
    "module",
    "function",
    "builtin_function_or_method",
    "instance",
    "_Feature"
   ],
   "window_display": false
  }
 },
 "nbformat": 4,
 "nbformat_minor": 4
}
