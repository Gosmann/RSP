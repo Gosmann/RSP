{
 "cells": [
  {
   "cell_type": "markdown",
   "metadata": {},
   "source": [
    "# Representation of signals & inverse problems - G1-G2\n",
    "---\n",
    "## Lab 2: Wavelet transform and image processing"
   ]
  },
  {
   "cell_type": "markdown",
   "metadata": {},
   "source": [
    "---\n",
    "## Guidelines (read carefully before starting)\n",
    "\n",
    "**Objective**: this lab explores some aspects of orthogonal wavelet transforms in 2D for image processing, with applications to denoising and filtering. All the numerical illustrations covered in this session rely on the Python module `Pywavelets`.\n",
    "\n",
    "Each wavelet is determined by its low-pass filter or scaling function (in french _fonction d'échelle_). The longer this filter (*i.e.*, the more coefficients it contains), the larger the number of null moments. For instance, Daubechies wavelets are composed of $p=2k$ coefficients, for $k$ null moments.\n",
    "\n",
    "A larger number of null moments allows regular signals/images to be better compressed. However, an extended support of the wavelet can be problematic to represent highly irregular regions of the signal, such as discontinuities.\n",
    "\n",
    "The choice of a wavelet is a matter of compromise, depending on the type of structures expected to be observed in the image of interest.\n",
    "\n",
    "**Guidelines**: after retrieving the resources for the lab on moodle:\n",
    "- place the .zip archive in a local folder (Computer -> Documents/Python/);\n",
    "- unzip the archive .zip;\n",
    "- rename the folder with the convention lab2_Name1_Name2;\n",
    "- duplicate the notebook file and rename it lab2_Name1_Name2.ipynb;\n",
    "- at the end of the session, do not forget to transfer your work to your own network space if you are working on a machine from the school (do not leave your work on the C: drive).\n",
    "\n",
    "**Assessment** &#8594; global grade from F to A (A+)\n",
    "\n",
    "Assessmment based on your answer to the exercises reported in the notebook and any additional `.py` file produced. Custom code should be commented whenever appropriate. Figures should be clearly annotated (axes, title).\n",
    "\n",
    "1. Numerical correctness\n",
    "2. Implementation clarity (documentation, relevance of the comments)\n",
    "3. Answers to the questions and overall presentation of the Jupyter notebook."
   ]
  },
  {
   "cell_type": "markdown",
   "metadata": {},
   "source": [
    "## Configuration"
   ]
  },
  {
   "cell_type": "code",
   "execution_count": null,
   "metadata": {},
   "outputs": [],
   "source": [
    "# make sure the notebook reloads the module each time we modify it\n",
    "%load_ext autoreload\n",
    "%autoreload 2\n",
    "\n",
    "# Uncomment the next line if you want to be able to zoom on plots (one of the options below)\n",
    "# %matplotlib widget\n",
    "# %matplotlib notebook\n",
    "%matplotlib inline"
   ]
  },
  {
   "cell_type": "code",
   "execution_count": null,
   "metadata": {},
   "outputs": [],
   "source": [
    "import matplotlib.image as mpimg\n",
    "import matplotlib.pyplot as plt\n",
    "import numpy as np\n",
    "import pywt\n",
    "import scipy.signal as sg\n",
    "from IPython.display import Audio\n",
    "from lib.plotwavelet import plot_wavelet, psnr\n",
    "from matplotlib.colors import LogNorm  # for Log normalization\n",
    "\n",
    "SMALL_SIZE = 16\n",
    "MEDIUM_SIZE = 20\n",
    "BIGGER_SIZE = 24\n",
    "\n",
    "plt.rc(\"font\", size=SMALL_SIZE)  # controls default text sizes\n",
    "plt.rc(\"axes\", titlesize=SMALL_SIZE)  # fontsize of the axes title\n",
    "plt.rc(\"axes\", labelsize=MEDIUM_SIZE)  # fontsize of the x and y labels\n",
    "plt.rc(\"xtick\", labelsize=SMALL_SIZE)  # fontsize of the tick labels\n",
    "plt.rc(\"ytick\", labelsize=SMALL_SIZE)  # fontsize of the tick labels\n",
    "plt.rc(\"legend\", fontsize=SMALL_SIZE)  # legend fontsize\n",
    "plt.rc(\"figure\", titlesize=BIGGER_SIZE)  # fontsize of the figure title"
   ]
  },
  {
   "cell_type": "markdown",
   "metadata": {},
   "source": [
    "## Contents <a id=\"content\"></a>\n",
    "\n",
    "1. [1D discrete wavelet transform](#section1)\n",
    "   - [Exercise 1](#ex1)\n",
    "2. [2D discrete wavelet transform](#section2)\n",
    "   - [Exercise 2](#ex2) \n",
    "3. [Wavelet filtering](#section3)\n",
    "   - [Exercise 3](#ex3) \n",
    "4. [Wavelet denoising](#section4)\n",
    "   - [Exercise 4](#ex4) \n",
    "   - [Bonus: Exercise 5](#ex5)"
   ]
  },
  {
   "cell_type": "markdown",
   "metadata": {},
   "source": [
    "---\n",
    "## 1D discrete wavelet transform <a id=\"section1\"></a> [(&#8593;)](#content)\n",
    "\n",
    "[PyWavelets](https://pywavelets.readthedocs.io/en/latest/ref/index.html) (`pywt`) is an open source wavelet transform package for Python. It combines a simple high level interface with low level C and Cython performance. \n",
    "\n",
    "The Discrete Wavelet Transform (DWT) of a signal can be computed with the `pywt.dwt` and `pywt.wavedec` functions (see the example below). The result is stored in a dictionary of arrays containing each octave separately, as well as the approximation level. \n",
    "\n",
    "An example of application to a chirp signal is reported below, illustrating the multiresolution analysis of a wideband signal."
   ]
  },
  {
   "cell_type": "code",
   "execution_count": null,
   "metadata": {},
   "outputs": [],
   "source": [
    "N = 2**13     # 8192\n",
    "Fs = 1024\n",
    "t = np.arange(0, N, 1) / Fs\n",
    "x = sg.chirp(t, f0=60, f1=2, t1=10, method=\"hyperbolic\")\n",
    "\n",
    "Audio(x, rate=44 * Fs)  # artificially change Fs for listening purposes"
   ]
  },
  {
   "cell_type": "code",
   "execution_count": null,
   "metadata": {},
   "outputs": [],
   "source": [
    "plt.figure(figsize=(12, 6))\n",
    "plt.plot(t, x)\n",
    "plt.xlabel(\"Time [s]\")\n",
    "plt.ylabel(r\"Amplitude\")\n",
    "plt.grid()\n",
    "plt.show()"
   ]
  },
  {
   "cell_type": "markdown",
   "metadata": {},
   "source": [
    "Different wavelets are available. Use the `pywt.wavelist()` command to display the list of the available built-in wavelets."
   ]
  },
  {
   "cell_type": "code",
   "execution_count": null,
   "metadata": {},
   "outputs": [],
   "source": [
    "#pywt.wavelist() # uncomment to run the command\n",
    "\n",
    "print(pywt.wavelist(kind='discrete'))"
   ]
  },
  {
   "cell_type": "markdown",
   "metadata": {},
   "source": [
    "#### Computing your first orthogonal wavelet transform\n",
    "The function `pywt.dwt` computes the wavelet transform for a single decomposition level, returning the corresponding approximation coefficients and details."
   ]
  },
  {
   "cell_type": "code",
   "execution_count": null,
   "metadata": {},
   "outputs": [],
   "source": [
    "cA, cD = pywt.dwt(x, \"sym8\")\n",
    "\n",
    "plt.figure(figsize=(15, 10))\n",
    "\n",
    "plt.subplot(211)\n",
    "plt.plot(cA)\n",
    "plt.title(\"Approximation\")\n",
    "plt.grid()\n",
    "\n",
    "plt.subplot(212)\n",
    "plt.plot(cD)\n",
    "plt.title(\"Details\")\n",
    "plt.grid()\n",
    "plt.show()"
   ]
  },
  {
   "cell_type": "markdown",
   "metadata": {},
   "source": [
    "The `pywt.wavedec` function computes a multi-level wavelet transform. It returns an ordered list of coefficients arrays, where `level` denotes the number of decomposition levels. Wavelet coefficients are stored in an object `coeff`. The first element `coeff[0]` is an array containing approximation coefficients. The following elements `coeff[i]` are arrays containing the details coefficients at the different scales."
   ]
  },
  {
   "cell_type": "code",
   "execution_count": null,
   "metadata": {},
   "outputs": [],
   "source": [
    "level = 7\n",
    "coeff = pywt.wavedec(x, \"sym8\", level=level)"
   ]
  },
  {
   "cell_type": "code",
   "execution_count": null,
   "metadata": {},
   "outputs": [],
   "source": [
    "plt.figure(figsize=(8, 15))\n",
    "plt.subplot(311)\n",
    "plt.plot(coeff[0])\n",
    "plt.ylabel(\"Approximation (j={})\".format(level))\n",
    "plt.grid()\n",
    "plt.subplot(312)\n",
    "plt.plot(coeff[1])\n",
    "plt.ylabel(\"Details (j={})\".format(level))\n",
    "plt.grid()\n",
    "plt.subplot(313)\n",
    "plt.plot(coeff[2])\n",
    "plt.ylabel(\"Details (j={})\".format(level - 1))\n",
    "plt.grid()\n",
    "plt.show()"
   ]
  },
  {
   "cell_type": "markdown",
   "metadata": {},
   "source": [
    "### Exercise 1 <a id=\"ex1\"></a> [(&#8593;)](#content)\n",
    "1. Read the documentation of the functions `pywt.dwt`, `pywt.idwt` and `pywt.wavedec`. What are these functions used for? What is the difference between these functions?\n",
    "2. The smallest scales can be filtered out by setting the associated wavelet coefficients to zero. Illustrate the effect of setting to 0 coefficients of the details (or the approximation) for a given set of octaves.\n",
    "_Indication: to do this, you need to compute the wavelet transform, set some coefficients to zero and then reconstruct the signal by using the inverse wavelet transform._\n",
    "3. Try this filtering operation with several wavelets of your choice and compare the results. Observe and comment.\n",
    "4. Use at least one other 1D signal using `pywt.data`, and repeat the operations described in 2. and 3."
   ]
  },
  {
   "cell_type": "markdown",
   "metadata": {},
   "source": [
    "Exercise 1.1\n",
    "\n",
    "`pywt.dwt` : it's used to perform a single level discrete wavelet transform. Its input is the signal (an array-like data) in which the transform will be applied and it returns the approximation and details coefficients as individual arrays.\n",
    "\n",
    "`pywt.idwt` : it's used to perform a single level inverse discrete wavelet transform. Its input are the approximation and details coefficients and it returns a sigle level reconstructed signal.\n",
    "\n",
    "`pywt.wavedec` : it's used to performs multilevel discrete wavelet transform decomposition. It is analogous to the `pywt.dwt` but with the level of decomposition as a parameter. This is an interesting characteristic as it can be usefull to perform more than on level decomposition at a time."
   ]
  },
  {
   "cell_type": "code",
   "execution_count": null,
   "metadata": {},
   "outputs": [],
   "source": [
    "# exercise 1.2\n",
    "\n",
    "coeffs = pywt.wavedec(x, \"sym8\", level=5)\n",
    "\n",
    "#[cAn, cDn, cDn-1, ..., cD2, cD1]\n",
    "coeffs[1][:] = 0    # sets the coefficients associated to details 5 (cD5) equals to zero\n",
    "\n",
    "x_new = pywt.waverec(coeffs, \"sym8\")\n",
    "\n",
    "plt.figure(figsize=(15, 10))\n",
    "\n",
    "plt.subplot(211)\n",
    "plt.plot(x)\n",
    "plt.title(\"original signal\")\n",
    "plt.grid()\n",
    "\n",
    "plt.subplot(212)\n",
    "plt.plot(x_new)\n",
    "plt.title(\"reconstruction without cD5\")\n",
    "plt.grid()\n",
    "plt.show()\n"
   ]
  },
  {
   "cell_type": "code",
   "execution_count": null,
   "metadata": {},
   "outputs": [],
   "source": [
    "# exercise 1.3\n",
    "\n",
    "plt.figure(figsize=(15, 10))\n",
    "\n",
    "plt.subplot(211)\n",
    "plt.plot(x)\n",
    "plt.title(\"original signal\")\n",
    "plt.grid()\n",
    "\n",
    "wavelets = [\"sym8\", \"bior2.2\", \"coif10\", \"haar\", \"db20\"]\n",
    "\n",
    "for wavelet in wavelets:    \n",
    "\n",
    "    coeffs = pywt.wavedec(x, wavelet, level=5)\n",
    "\n",
    "    #[cAn, cDn, cDn-1, ..., cD2, cD1]\n",
    "    coeffs[1][:] = 0    # sets the coefficients associated to details 5 (cD5) equals to zero\n",
    "\n",
    "    x_new = pywt.waverec(coeffs, wavelet)\n",
    "\n",
    "\n",
    "\n",
    "    plt.figure(figsize=(15, 5))\n",
    "    plt.plot(x_new)\n",
    "    plt.title(\"reconstruction without cD5 and \" + wavelet )\n",
    "    plt.grid()\n",
    "    plt.show()\n"
   ]
  },
  {
   "cell_type": "markdown",
   "metadata": {},
   "source": [
    "Exercise 1.3\n",
    "\n",
    "It is remarkable the fact that `haar` is definitely the worse reconstruction. This can be explained by the fact that the `haar` wavelet has very low resemblance to the original signal, so the supression of the details coefficients 5 is more noticeable on all frequencies. This can also be explained by spectral leakage phenomenon associated to `haar`. On the other hand, `db20`, expect for certain frequencies that were suppressed, seems to display a very good reconstruction. This can be explained by the fact that `db20` has a chirp-like, frequency-modulation-like shape, so it makes sense that the approximation coefficients would be more adequate to represent the original signal."
   ]
  },
  {
   "cell_type": "code",
   "execution_count": null,
   "metadata": {},
   "outputs": [],
   "source": [
    "# exercise 1.4\n",
    "\n",
    "# Charger un signal 1D de test\n",
    "signal_name = 'Blocks' \n",
    "#signal_name = 'Bumps' \n",
    "#signal_name = 'Riemann' \n",
    "signal = pywt.data.demo_signal(signal_name, n=N)\n",
    "\n",
    "#print(pywt.data.demo_signal(\"list\", n=10))\n",
    "\n",
    "coeffs = pywt.wavedec(signal, wavelet, level=5)\n",
    "\n",
    "#[cAn, cDn, cDn-1, ..., cD2, cD1]\n",
    "coeffs[1][:] = 0    # sets the coefficients associated to details 5 (cD5) equals to zero\n",
    "\n",
    "x_new = pywt.waverec(coeffs, wavelet)\n",
    "\n",
    "plt.figure(figsize=(15, 13))\n",
    "\n",
    "plt.subplot(311)\n",
    "plt.plot(signal)\n",
    "plt.title(\"original signal\")\n",
    "plt.grid()\n",
    "\n",
    "plt.subplot(312)\n",
    "plt.plot(x_new)\n",
    "plt.title(\"reconstruction without cD5\")\n",
    "plt.grid()"
   ]
  },
  {
   "cell_type": "code",
   "execution_count": null,
   "metadata": {},
   "outputs": [],
   "source": [
    "# exercise 1.4\n",
    "\n",
    "plt.figure(figsize=(15, 4))\n",
    "\n",
    "plt.plot(signal)\n",
    "plt.title(\"original signal\")\n",
    "plt.grid()\n",
    "\n",
    "wavelets = [\"sym8\", \"bior2.2\", \"coif10\", \"haar\", \"db20\"]\n",
    "\n",
    "for wavelet in wavelets:    \n",
    "\n",
    "    coeffs = pywt.wavedec(signal, wavelet, level=5)\n",
    "\n",
    "    #[cAn, cDn, cDn-1, ..., cD2, cD1]\n",
    "    coeffs[1][:] = 0    # sets the coefficients associated to details 5 (cD5) equals to zero\n",
    "\n",
    "    x_new = pywt.waverec(coeffs, wavelet)\n",
    "\n",
    "    plt.figure(figsize=(15, 5))\n",
    "    plt.plot(x_new)\n",
    "    plt.title(\"reconstruction without cD5 and \" + wavelet )\n",
    "    plt.grid()\n",
    "    plt.show()"
   ]
  },
  {
   "cell_type": "markdown",
   "metadata": {},
   "source": [
    "Exercise 1.4\n",
    "\n",
    "The situation now is exactly the contrary to the previous question. This signal `bumps` clearly ressambles more `haar` than `bd20`, so it is better represented by it (because its approximation coefficients are more important). This is also clearly the case for many of the other signals that appear to have artifacts due to `Gibbs phenomenon`. "
   ]
  },
  {
   "cell_type": "markdown",
   "metadata": {},
   "source": [
    "---\n",
    "## 2D discrete wavelet transform <a id=\"section2\"></a> [(&#8593;)](#content)\n",
    "We now turn to the computation of a 2D wavelet transform to analyze images (example images are available in the `img/` folder). Let us start with a simple chessboard image.\n",
    "\n",
    "_Indication: you can consider other images, in particular using `pywt.data`._"
   ]
  },
  {
   "cell_type": "code",
   "execution_count": null,
   "metadata": {},
   "outputs": [],
   "source": [
    "filename = \"img/chessboard.png\"\n",
    "\n",
    "I = mpimg.imread(filename)\n",
    "\n",
    "plt.figure()\n",
    "plt.imshow(I, cmap=\"gray\")\n",
    "plt.colorbar()\n",
    "plt.show()"
   ]
  },
  {
   "cell_type": "markdown",
   "metadata": {},
   "source": [
    "#### Wavelet transform\n",
    "We first compute a 2D wavelet transform using the function `pywt.wavedec2` and display the results."
   ]
  },
  {
   "cell_type": "code",
   "execution_count": null,
   "metadata": {},
   "outputs": [],
   "source": [
    "# Wavelet decomposition\n",
    "Jmax = int(np.log2(I.shape[0]))  # maximal number of octaves\n",
    "J = 2\n",
    "\n",
    "wtcoeffs = pywt.wavedec2(I, wavelet=\"sym8\", level=J, mode=\"periodization\")"
   ]
  },
  {
   "cell_type": "markdown",
   "metadata": {},
   "source": [
    "Since the coefficients are stored in a dictionary of objects, we need to convert these into an array for obtain a graphical representation using the `plot_wavelet` function."
   ]
  },
  {
   "cell_type": "code",
   "execution_count": null,
   "metadata": {},
   "outputs": [],
   "source": [
    "# Casting coeff in a single array\n",
    "wtcoeffs_arr, coeff_slices = pywt.coeffs_to_array(wtcoeffs)\n",
    "\n",
    "# Graphical representation\n",
    "plt.figure(figsize=(5, 5), dpi=200)\n",
    "plot_wavelet(wtcoeffs_arr, Jmin=Jmax - J)"
   ]
  },
  {
   "cell_type": "markdown",
   "metadata": {},
   "source": [
    "## Exercise 2 <a id=\"ex2\"></a> [(&#8593;)](#content)\n",
    "1. Observe the figure above and briefly recall its structure and what it represents.\n",
    "\n",
    "2. Play with the parameter $J$ (corresponding to the optional parameter `level` from `pywt.wavedec2`). What does it correspond to?\n",
    "\n",
    "3. Observe the wavelet transform of other images.\n",
    "\n",
    "4. For the checkerboard image, try the Haar wavelet and compare the result with any other wavelet transform. What do you notice? Do you have an explanation?"
   ]
  },
  {
   "cell_type": "markdown",
   "metadata": {},
   "source": [
    "Exercise 2.1\n",
    "\n",
    "At the top left of the image, we can see the square that represents the second level approximation for the image. This square is surrounded by 3 other squares of same size, which represent the horizontal (right square), the diagonal (diagonal, right below square) and the vertical (below square) coefficients of second level of the wavelet decomposition. The same logic can be applied subsequently for the larger squares with lower levels of decomposition, they represent respectively the horizontal, vertical and diagonal coefficients for the 1 level decomposition. "
   ]
  },
  {
   "cell_type": "code",
   "execution_count": null,
   "metadata": {},
   "outputs": [],
   "source": [
    "# exercise 2.2\n",
    "\n",
    "filename = \"img/chessboard.png\"\n",
    "\n",
    "I = mpimg.imread(filename)\n",
    "\n",
    "# Wavelet decomposition\n",
    "Jmax = int(np.log2(I.shape[0]))  # maximal number of octaves\n",
    "\n",
    "Js = [1, 2, 3, 4, 5]\n",
    "\n",
    "for J in Js:    \n",
    "    \n",
    "    wtcoeffs = pywt.wavedec2(I, wavelet=\"sym8\", level=J, mode=\"periodization\")\n",
    "    \n",
    "    # Casting coeff in a single array\n",
    "    wtcoeffs_arr, coeff_slices = pywt.coeffs_to_array(wtcoeffs)\n",
    "\n",
    "    # Graphical representation\n",
    "    plt.figure(figsize=(4, 4), dpi=120)\n",
    "    plot_wavelet(wtcoeffs_arr, Jmin=Jmax - J)\n",
    "    plt.title(\"Level of decomposition : \" + str(J))\n",
    "    \n"
   ]
  },
  {
   "cell_type": "markdown",
   "metadata": {},
   "source": [
    "Exercise 2.2  \n",
    "\n",
    "The parameter J defines the level of decomposition the be applied in the wavelet transform."
   ]
  },
  {
   "cell_type": "code",
   "execution_count": null,
   "metadata": {},
   "outputs": [],
   "source": [
    "# exercise 2.3\n",
    "\n",
    "images = [\"img/hair.png\", \"img/mandrill.png\", \"img/periodic_bumps.png\"]\n",
    "\n",
    "for image in images:    \n",
    "    \n",
    "    I = mpimg.imread(image)\n",
    "    \n",
    "    # Wavelet decomposition\n",
    "    Jmax = int(np.log2(I.shape[0]))  # maximal number of octaves\n",
    "    J = 1\n",
    "    \n",
    "    wtcoeffs = pywt.wavedec2(I, wavelet=\"haar\", level=J, mode=\"periodization\")\n",
    "    \n",
    "    # Casting coeff in a single array\n",
    "    wtcoeffs_arr, coeff_slices = pywt.coeffs_to_array(wtcoeffs)\n",
    "\n",
    "    # Graphical representation\n",
    "    plt.figure(figsize=(4, 4), dpi=120)\n",
    "    \n",
    "    plot_wavelet(wtcoeffs_arr, Jmin=Jmax - J)\n",
    "    \n",
    "    plt.grid()\n",
    "    plt.show()"
   ]
  },
  {
   "cell_type": "code",
   "execution_count": null,
   "metadata": {},
   "outputs": [],
   "source": [
    "# exercise 2.4\n",
    "\n",
    "filename = \"img/chessboard.png\"\n",
    "\n",
    "I = mpimg.imread(filename)\n",
    "\n",
    "plt.figure()\n",
    "plt.imshow(I, cmap=\"gray\")\n",
    "plt.colorbar()\n",
    "plt.show()\n",
    "\n",
    "# Wavelet decomposition\n",
    "Jmax = int(np.log2(I.shape[0]))  # maximal number of octaves\n",
    "J = 2\n",
    "\n",
    "#wtcoeffs = pywt.wavedec2(I, wavelet=\"sym8\", level=J, mode=\"periodization\")\n",
    "wtcoeffs = pywt.wavedec2(I, wavelet=\"haar\", level=J, mode=\"periodization\")\n",
    "\n",
    "# Casting coeff in a single array\n",
    "wtcoeffs_arr, coeff_slices = pywt.coeffs_to_array(wtcoeffs)\n",
    "\n",
    "# Graphical representation\n",
    "plt.figure(figsize=(5, 5), dpi=200)\n",
    "plot_wavelet(wtcoeffs_arr, Jmin=Jmax - J)"
   ]
  },
  {
   "cell_type": "markdown",
   "metadata": {},
   "source": [
    "Exercise 2.4\n",
    "\n",
    "The `haar` waveform is very similar to the `chessboard`, essentialy constant frequency step transitions from white to black. This similarity makes it possible to encompass all information on the original only on the approximation coefficients, leaving no information for the horizontal, vertical and diagonal details coefficients."
   ]
  },
  {
   "cell_type": "markdown",
   "metadata": {},
   "source": [
    "**Remark:** a 2D wavelet transform is a succession of two 1D DWT. Using only 1 step of the multiresolution hierarchy, one obtains the following result."
   ]
  },
  {
   "cell_type": "code",
   "execution_count": null,
   "metadata": {},
   "outputs": [],
   "source": [
    "coeffs2 = pywt.dwt2(I, \"sym8\")\n",
    "\n",
    "LL, (LH, HL, HH) = coeffs2\n",
    "\n",
    "fig = plt.figure(figsize=(12, 3))\n",
    "titles = [\n",
    "    \"Approximation\",\n",
    "    \" Horizontal details\",\n",
    "    \"Vertical details\",\n",
    "    \"Diagonal details\",\n",
    "]\n",
    "for i, a in enumerate([LL, LH, HL, HH]):\n",
    "    ax = fig.add_subplot(1, 4, i + 1)\n",
    "    ax.imshow(a, interpolation=\"nearest\", cmap=plt.cm.gray)\n",
    "    ax.set_title(titles[i], fontsize=10)\n",
    "    ax.set_xticks([])\n",
    "    ax.set_yticks([])\n",
    "\n",
    "fig.tight_layout()\n",
    "plt.show()"
   ]
  },
  {
   "cell_type": "markdown",
   "metadata": {},
   "source": [
    "---\n",
    "## Wavelet filtering <a id=\"section3\"></a> [(&#8593;)](#content)\n",
    "This section illustrates a filtering procedure conducted in the wavelet domain. The purpose is to observe that one can filter an image both at a given scale, for specific orientations, and at chosen places on top."
   ]
  },
  {
   "cell_type": "code",
   "execution_count": null,
   "metadata": {},
   "outputs": [],
   "source": [
    "filename = \"img/chessboard.png\"\n",
    "I = mpimg.imread(filename)\n",
    "\n",
    "\n",
    "plt.figure()\n",
    "plt.imshow(I, cmap=\"gray\")\n",
    "plt.colorbar()\n",
    "plt.show()"
   ]
  },
  {
   "cell_type": "markdown",
   "metadata": {},
   "source": [
    "#### First steps for filtering\n",
    "We will first use a 1 step decomposition and put some coefficients to zero."
   ]
  },
  {
   "cell_type": "code",
   "execution_count": null,
   "metadata": {},
   "outputs": [],
   "source": [
    "coeffs2 = pywt.dwt2(I, \"db4\")"
   ]
  },
  {
   "cell_type": "code",
   "execution_count": null,
   "metadata": {},
   "outputs": [],
   "source": [
    "LL, (LH, HL, HH) = coeffs2"
   ]
  },
  {
   "cell_type": "code",
   "execution_count": null,
   "metadata": {},
   "outputs": [],
   "source": [
    "L = 8\n",
    "LL[2 ** (L - 1) : 2**L + 1, 2 ** (L - 1) : 2**L + 1] = 0"
   ]
  },
  {
   "cell_type": "code",
   "execution_count": null,
   "metadata": {},
   "outputs": [],
   "source": [
    "LL, (LH, HL, HH) = coeffs2\n",
    "fig = plt.figure(figsize=(12, 3))\n",
    "titles = [\"Approximation\", \" Horizontal detail\", \"Vertical detail\", \"Diagonal detail\"]\n",
    "for i, a in enumerate([LL, LH, HL, HH]):\n",
    "    ax = fig.add_subplot(1, 4, i + 1)\n",
    "    ax.imshow(a, interpolation=\"nearest\", cmap=plt.cm.gray)\n",
    "    ax.set_title(titles[i], fontsize=10)\n",
    "    ax.set_xticks([])\n",
    "    ax.set_yticks([])\n",
    "\n",
    "fig.tight_layout()\n",
    "plt.show()"
   ]
  },
  {
   "cell_type": "code",
   "execution_count": null,
   "metadata": {},
   "outputs": [],
   "source": [
    "I_d = pywt.idwt2(coeffs2, \"db4\")\n",
    "fig = plt.figure(figsize=(15, 7))\n",
    "plt.subplot(121)\n",
    "plt.imshow(I, cmap=\"gray\") #he checkerboard image, try the Haar wavelet and compare the result with any other wavelet transform. What do you notice? Do you have an explan\n",
    "plt.title(\"Before\")\n",
    "# plt.colorbar()\n",
    "plt.subplot(122)\n",
    "plt.imshow(I_d, cmap=\"gray\")\n",
    "plt.title(\"After\")\n",
    "# plt.colorbar()\n",
    "plt.show()"
   ]
  },
  {
   "cell_type": "markdown",
   "metadata": {},
   "source": [
    "## Exercise 3 <a id=\"ex3\"></a> [(&#8593;)](#content)\n",
    "1. Take a look at the documentation of the `pywt.wavedec2` and `pywt.waverec2`. How are the wavelet coefficients organized (scale? orientation?)?\n",
    "2. Play with wavelet filtering procedure described above by setting some sets of coefficients to zero (approximation or details of various orientations). Illustrate its result with the `chessboard.png` image.\n",
    "3. Do the same with any gray level image of your choice (see `img` folder). \n",
    "4. Observe and comment."
   ]
  },
  {
   "cell_type": "markdown",
   "metadata": {},
   "source": [
    "Exercise 3.1\n",
    "\n",
    "`pywt.wavedec2` : performs a multilevel 2D discrete wavelet transform with level of decomposition as a parameter. It is the 2D equivalent of `pywt.wavedec`. It returns a list of lists of the coefficients in order of decreasing level of decomposition: [cAn, (cHn, cVn, cDn), … (cH1, cV1, cD1)], in which cAn is the approximaiton coefficients, cHn is the horizontal details coefficients of order n, cVn is the vertical details coefficients of order n and cDn is the diagonal details coefficients of order n.\n",
    "\n",
    "`pywt.waverec2` : performs a multilevel 2D inverse discrete wavelet transform. It is the 2d equivalent of `pywt.waverec`. Given the coefficients of approximation and details, it returns the corresponding 2D array of reconstructed data. "
   ]
  },
  {
   "cell_type": "code",
   "execution_count": null,
   "metadata": {},
   "outputs": [],
   "source": [
    "# question 2\n",
    "\n",
    "# Load image\n",
    "filename = \"img/chessboard.png\"\n",
    "I = mpimg.imread(filename)\n",
    "\n",
    "Jmax = int(np.log2(I.shape[0]))  # maximal number of octaves\n",
    "J = 3\n",
    "\n",
    "#I_D = pywt.wavedec2(I, wavelet=\"haar\", mode='periodization', level=3, axes=(-2, -1))\n",
    "I_D = pywt.wavedec2(I, wavelet=\"db20\", mode='periodization', level=3, axes=(-2, -1))\n",
    "\n",
    "# setting to zero all coeffiecients associated to vertical details of levels 1, 2 and 3\n",
    "I_D[1][0][:] = 0\n",
    "I_D[2][0][:] = 0\n",
    "I_D[3][0][:] = 0\n",
    "print( I_D[1][0][:] )\n",
    "\n",
    "I_R = pywt.waverec2(I_D, wavelet=\"db20\", mode='periodization', axes=(-2, -1))\n",
    "\n",
    "fig = plt.figure(figsize=(15, 7))\n",
    "plt.subplot(131)\n",
    "plt.imshow(I, cmap=\"gray\")\n",
    "plt.title(\"Before\")\n",
    "\n",
    "\n",
    "# Wavelet visualization\n",
    "\n",
    "# Casting coeff in a single array\n",
    "wtcoeffs_arr, coeff_slices = pywt.coeffs_to_array(I_D)\n",
    "\n",
    "# Graphical representation\n",
    "plt.subplot(132)\n",
    "plot_wavelet(wtcoeffs_arr, Jmin=Jmax - J)\n",
    "\n",
    "plt.subplot(133)\n",
    "\n",
    "plt.imshow(I_R, cmap=\"gray\")\n",
    "plt.title(\"After\")\n",
    "# plt.colorbar()\n",
    "plt.show()\n"
   ]
  },
  {
   "cell_type": "code",
   "execution_count": null,
   "metadata": {},
   "outputs": [],
   "source": [
    "# Load image\n",
    "filename = \"img/chessboard.png\"\n",
    "I = mpimg.imread(filename)\n",
    "\n",
    "Jmax = int(np.log2(I.shape[0]))  # maximal number of octaves\n",
    "J = 3\n",
    "\n",
    "#I_D = pywt.wavedec2(I, wavelet=\"haar\", mode='periodization', level=3, axes=(-2, -1))\n",
    "I_D = pywt.wavedec2(I, wavelet=\"db20\", mode='periodization', level=3, axes=(-2, -1))\n",
    "\n",
    "# setting to zero all coeffiecients associated to horizontal details of levels 1, 2 and 3\n",
    "I_D[1][1][:] = 0\n",
    "I_D[2][1][:] = 0\n",
    "I_D[3][1][:] = 0\n",
    "print( I_D[1][0][:] )\n",
    "\n",
    "I_R = pywt.waverec2(I_D, wavelet=\"db20\", mode='periodization', axes=(-2, -1))\n",
    "\n",
    "fig = plt.figure(figsize=(15, 7))\n",
    "plt.subplot(131)\n",
    "plt.imshow(I, cmap=\"gray\")\n",
    "plt.title(\"Before\")\n",
    "\n",
    "\n",
    "# Wavelet visualization\n",
    "\n",
    "# Casting coeff in a single array\n",
    "wtcoeffs_arr, coeff_slices = pywt.coeffs_to_array(I_D)\n",
    "\n",
    "# Graphical representation\n",
    "plt.subplot(132)\n",
    "plot_wavelet(wtcoeffs_arr, Jmin=Jmax - J)\n",
    "\n",
    "plt.subplot(133)\n",
    "\n",
    "plt.imshow(I_R, cmap=\"gray\")\n",
    "plt.title(\"After\")\n",
    "# plt.colorbar()\n",
    "plt.show()\n"
   ]
  },
  {
   "cell_type": "markdown",
   "metadata": {},
   "source": [
    "Exercise 3.2\n",
    "\n",
    "The example above shows thre resulting effect of setting all (horizontal and then vertical) details coefficients to zero. In the first case, when setting all horizontal details coefficients to zero, one can clearly see that the reconstructed image shows much blurrier transitions in the vertical direction. This makes sense as the lines that define these vertical transitions are horizontal on the original image. Setting all horizontal details coefficients to zero make only the approximation coefficients information available these lines (low-frequency data, thus, blurry vertical transitions. Similarly, when all vertical coefficients are set to zero the resulting image shows much blurier horizontal transitions."
   ]
  },
  {
   "cell_type": "code",
   "execution_count": null,
   "metadata": {},
   "outputs": [],
   "source": [
    "# question 3.3\n",
    "\n",
    "# Load image\n",
    "filename = \"img/barb.png\"\n",
    "I = mpimg.imread(filename)\n",
    "\n",
    "Jmax = int(np.log2(I.shape[0]))  # maximal number of octaves\n",
    "J = 3\n",
    "\n",
    "#I_D = pywt.wavedec2(I, wavelet=\"haar\", mode='periodization', level=3, axes=(-2, -1))\n",
    "I_D = pywt.wavedec2(I, wavelet=\"db20\", mode='periodization', level=3, axes=(-2, -1))\n",
    "\n",
    "# setting to zero all coeffiecients associated to all details of first level\n",
    "# first level\n",
    "I_D[3][2][:] = 0\n",
    "I_D[3][1][:] = 0\n",
    "I_D[3][0][:] = 0\n",
    "\n",
    "# Casting coeff in a single array\n",
    "wtcoeffs_arr, coeff_slices = pywt.coeffs_to_array(I_D)\n",
    "\n",
    "I_R = pywt.waverec2(I_D, wavelet=\"db20\", mode='periodization', axes=(-2, -1))\n",
    "\n",
    "# Wavelet visualization\n",
    "# Graphical representation\n",
    "fig1 = plt.figure(figsize=(15, 7))\n",
    "plt.subplot(111)\n",
    "plot_wavelet(wtcoeffs_arr, Jmin=Jmax - J)\n",
    "\n",
    "fig2 = plt.figure(figsize=(15, 7))\n",
    "plt.subplot(121)\n",
    "plt.imshow(I, cmap=\"gray\")\n",
    "plt.title(\"Before\")\n",
    "\n",
    "# Casting coeff in a single array\n",
    "wtcoeffs_arr, coeff_slices = pywt.coeffs_to_array(I_D)\n",
    "\n",
    "plt.subplot(122)\n",
    "plt.imshow(I_R, cmap=\"gray\")\n",
    "plt.title(\"After\")\n",
    "# plt.colorbar()\n",
    "plt.show()\n"
   ]
  },
  {
   "cell_type": "markdown",
   "metadata": {},
   "source": [
    "Exercise 3.4\n",
    "\n",
    "Here it was chosen to eliminate all details coefficients of the first level decomposition (horizontal, vertical and diagonal). These are the coefficients responsible for the higher frequency content on the original image. One can clearly see the effect on the reconstructed image, low-frequency (approximation) content is essentialy the same, but high-frequency (details) are much more attenuated. This is particularly clear in the detail in the pants of the lady, on the left the stripes are clearly visible and on the right they are much blurrier."
   ]
  },
  {
   "cell_type": "markdown",
   "metadata": {},
   "source": [
    "---\n",
    "## Wavelet Denoising <a id=\"section4\"></a> [(&#8593;)](#content)"
   ]
  },
  {
   "cell_type": "markdown",
   "metadata": {},
   "source": [
    "Wavelets are suitable for denoising signals which contain fast transients. In this context, thresholding can be used to cancel out the wavelet coefficients corresponding to regions where the signal varies smoothly. In these regions, the coefficients are expected to remain small (denoising is then provided by the low-pass cascade), and large wavelet coefficients (corresponding to large and fast transients of the signal) are preserved."
   ]
  },
  {
   "cell_type": "markdown",
   "metadata": {},
   "source": [
    "Let's simulate a noisy image to test the denoising procedure described above."
   ]
  },
  {
   "cell_type": "code",
   "execution_count": null,
   "metadata": {},
   "outputs": [],
   "source": [
    "# The original image\n",
    "filename = \"img/boat.png\"\n",
    "I = mpimg.imread(filename)\n",
    "\n",
    "# The noise\n",
    "sigma = 0.1  # noise level\n",
    "\n",
    "[n, m] = I.shape\n",
    "\n",
    "# Simulating normalized Gaussian random variables\n",
    "rng = np.random.default_rng(1234)\n",
    "noise = rng.standard_normal(size=(m, n)) * sigma\n",
    "\n",
    "# The noisy image\n",
    "I_noisy = I + noise\n",
    "\n",
    "# The PSNR quantifies the level of noise (see below for more explanations)\n",
    "psnr1 = psnr(I, I_noisy, vmax=-1)\n",
    "\n",
    "\n",
    "# Graphical representation\n",
    "fig = plt.figure(figsize=(15, 7))\n",
    "plt.subplot(121)\n",
    "plt.imshow(I, cmap=\"gray\")\n",
    "# plt.colorbar()\n",
    "plt.subplot(122)\n",
    "plt.imshow(I_noisy, cmap=\"gray\")\n",
    "plt.title(\"Noisy image: PSNR = {0:2.2f}dB\".format(psnr1))\n",
    "# plt.colorbar()\n",
    "plt.show()"
   ]
  },
  {
   "cell_type": "markdown",
   "metadata": {},
   "source": [
    "#### Peak signal-to-noise ratio: definition\n",
    "The peak signal-to-noise ratio (PSNR) is defined as the ratio between the maximum possible power of a signal and the power of the noise that affecting its representation. Since many signals have a very wide dynamic range, the PSNR is usually expressed in decibel scale (dB).\n",
    "\n",
    "The PSNR is usually defined via the mean squared error (MSE). Given a noise-free $m \\times n$ monochromatic image $I$ and its noisy approximation $K$, the MSE is defined as:\n",
    "\n",
    "$$\\mathrm{MSE} = \\frac{1}{m\\,n}\\sum_{i=0}^{m-1}\\sum_{j=0}^{n-1} [I(i,j) - K(i,j)]^2 = \\frac{1}{m\\,n} \\|I - K \\|^2_{\\text{F}}.$$\n",
    "\n",
    "The PSNR in decibel (dB) is defined as:\n",
    "\n",
    "\\begin{align}\n",
    "\\mathrm{PSNR} &= 10 \\log_{10} \\left( \\frac{\\mathrm{MAX}_I^2}{\\mathrm{MSE}} \\right)\\\\ \n",
    "    &= 20 \\log_{10} \\left( {\\mathrm{MAX}_I} \\right) - 10 \\log_{10} \\left( {{\\mathrm{MSE}}} \\right)\n",
    "\\end{align}\n",
    "\n",
    "where $\\mathrm{MAX}_I$ corresponds to the maximum possible value taken by a pixel of the image. When the pixels are represented using 8 bits per sample, this is 255. The lower the error, the higher the PSNR.\n",
    "\n",
    "**Extension to color images**: for color images, with containing three values per pixel (RGB representation), the definition of the PSNR is the similar, except the MSE is the sum over all squared value differences (for each color, i.e. three times as many values as in a monochromatic image) divided by 3 times the image size. "
   ]
  },
  {
   "cell_type": "markdown",
   "metadata": {},
   "source": [
    "### Thresholding\n",
    "You can either use the `pywt.threshold` function, or a custom function as implemented below:"
   ]
  },
  {
   "cell_type": "code",
   "execution_count": null,
   "metadata": {},
   "outputs": [],
   "source": [
    "def perform_hardthresholding(f, thres):\n",
    "    return f * (np.abs(f) >= thres)"
   ]
  },
  {
   "cell_type": "code",
   "execution_count": null,
   "metadata": {},
   "outputs": [],
   "source": [
    "# Wavelet decomposition\n",
    "Jmax = int(np.log2(I_noisy.shape[0]))  # maximal number of octaves\n",
    "J = 5\n",
    "\n",
    "coeffs = pywt.wavedec2(I_noisy, wavelet=\"sym8\", level=J, mode=\"periodization\")"
   ]
  },
  {
   "cell_type": "code",
   "execution_count": null,
   "metadata": {},
   "outputs": [],
   "source": [
    "# Conversion to an array for graphical representation\n",
    "coeffs_array, coeff_slices = pywt.coeffs_to_array(coeffs)\n",
    "\n",
    "plt.figure(figsize=(5, 5), dpi=200)\n",
    "plot_wavelet(coeffs_array, Jmin=Jmax - J)\n",
    "plt.show()"
   ]
  },
  {
   "cell_type": "markdown",
   "metadata": {},
   "source": [
    "In the following, we will keep the approximation coefficients unchanged, and only threshold details coefficients. Futher indications are provided below."
   ]
  },
  {
   "cell_type": "code",
   "execution_count": null,
   "metadata": {},
   "outputs": [],
   "source": [
    "# Thresholding detail coefficients only (while preserving approximation coefficients)\n",
    "# 1) threshold all coefficients stored in an array\n",
    "# 2) reset approx coefficients to their original value\n",
    "\n",
    "thres = 2.0 * sigma\n",
    "coeffs_arr_hard = perform_hardthresholding(coeffs_array, thres)"
   ]
  },
  {
   "cell_type": "code",
   "execution_count": null,
   "metadata": {},
   "outputs": [],
   "source": [
    "# convert the array of coeffcients to pywt coeffs\n",
    "coeffs_hard = pywt.array_to_coeffs(coeffs_arr_hard, coeff_slices)\n",
    "\n",
    "# Setting original approximation coefficients back\n",
    "coeffs_hard[0] = coeffs[0]  # approximation preserved"
   ]
  },
  {
   "cell_type": "code",
   "execution_count": null,
   "metadata": {},
   "outputs": [],
   "source": [
    "# Back to an array for graphical representation\n",
    "coeffs_hard_arr, slices = pywt.coeffs_to_array(coeffs_hard)\n",
    "\n",
    "plt.figure(figsize=(5, 5), dpi=200)\n",
    "plot_wavelet(coeffs_hard_arr, Jmin=Jmax - J)\n",
    "plt.show()"
   ]
  },
  {
   "cell_type": "markdown",
   "metadata": {},
   "source": [
    "#### Reconstruction "
   ]
  },
  {
   "cell_type": "code",
   "execution_count": null,
   "metadata": {},
   "outputs": [],
   "source": [
    "# Multilevel n-dimensional Inverse Discrete Wavelet Transform\n",
    "I_den = pywt.waverecn(coeffs_hard, \"sym8\", mode=\"periodization\")"
   ]
  },
  {
   "cell_type": "code",
   "execution_count": null,
   "metadata": {},
   "outputs": [],
   "source": [
    "psnr2 = psnr(I, I_den, vmax=-1)\n",
    "fig = plt.figure(figsize=(15, 7))\n",
    "plt.subplot(121)\n",
    "plt.imshow(I_noisy, cmap=\"gray\")\n",
    "plt.title(\"Before thresholding: PSNR = {0:2.2f}dB\".format(psnr1))\n",
    "# plt.colorbar()\n",
    "plt.subplot(122)\n",
    "plt.imshow(I_den, cmap=\"gray\")\n",
    "plt.title(\"After thresholding: PSNR = {0:2.2f}dB\".format(psnr2))\n",
    "# plt.colorbar()\n",
    "plt.show()"
   ]
  },
  {
   "cell_type": "markdown",
   "metadata": {},
   "source": [
    "### Exercise 4 <a id=\"ex4\"></a> [(&#8593;)](#content)\n",
    "1. Observe the effect of the level of the decomposition and of the threshold.\n",
    "2. Optimize the parameters of your wavelet denoising strategy to get the best possible PSNR. "
   ]
  },
  {
   "cell_type": "code",
   "execution_count": null,
   "metadata": {},
   "outputs": [],
   "source": [
    "# Exercise 4.1\n",
    "\n",
    "# testing the effect of various levels of decomposition for the same threshold\n",
    "\n",
    "J = 5\n",
    "\n",
    "test_values  = [0, 1, 2, 3, 4, 5]\n",
    "\n",
    "for J in test_values:\n",
    "    \n",
    "    coeffs = pywt.wavedec2(I_noisy, wavelet=\"sym8\", level=J, mode=\"periodization\")\n",
    "    \n",
    "    # Conversion to an array for graphical representation\n",
    "    coeffs_array, coeff_slices = pywt.coeffs_to_array(coeffs)\n",
    "    \n",
    "    thres = 2.0 * sigma\n",
    "    coeffs_arr_hard = perform_hardthresholding(coeffs_array, thres)\n",
    "    \n",
    "    # convert the array of coeffcients to pywt coeffs\n",
    "    coeffs_hard = pywt.array_to_coeffs(coeffs_arr_hard, coeff_slices)\n",
    "\n",
    "    # Setting original approximation coefficients back\n",
    "    coeffs_hard[0] = coeffs[0]  # approximation preserved\n",
    "        \n",
    "    # Multilevel n-dimensional Inverse Discrete Wavelet Transform\n",
    "    I_den = pywt.waverecn(coeffs_hard, \"sym8\", mode=\"periodization\")\n",
    "    \n",
    "    psnr2 = psnr(I, I_den, vmax=-1)\n",
    "    fig = plt.figure(figsize=(14, 5))\n",
    "    \n",
    "    plt.subplot(121)\n",
    "    plt.imshow(I_noisy, cmap=\"gray\")\n",
    "    plt.title(\"Before thresholding: PSNR = {0:2.2f}dB \".format(psnr1 ))\n",
    "    \n",
    "    plt.subplot(122)\n",
    "    plt.imshow(I_den, cmap=\"gray\")\n",
    "    plt.title(\"After thresholding: PSNR = {0:2.2f}dB | decomp. level : {1:2} \".format(psnr2, J ))\n",
    "    \n",
    "    plt.show()    \n",
    "    "
   ]
  },
  {
   "cell_type": "code",
   "execution_count": null,
   "metadata": {},
   "outputs": [],
   "source": [
    "# Exercise 4.1\n",
    "\n",
    "# testing the effect of various thresholds for the same level of decomposition\n",
    "\n",
    "J = 3   # fixed level of decomposition\n",
    "\n",
    "thres_values  = [0, 1, 2, 3, 4, 5, 6]\n",
    "\n",
    "for threshold in thres_values:\n",
    "    \n",
    "    coeffs = pywt.wavedec2(I_noisy, wavelet=\"sym8\", level=J, mode=\"periodization\")\n",
    "    \n",
    "    # Conversion to an array for graphical representation\n",
    "    coeffs_array, coeff_slices = pywt.coeffs_to_array(coeffs)\n",
    "    \n",
    "    thres = 2.0 * sigma\n",
    "    coeffs_arr_hard = perform_hardthresholding(coeffs_array, threshold*sigma)\n",
    "    \n",
    "    # convert the array of coeffcients to pywt coeffs\n",
    "    coeffs_hard = pywt.array_to_coeffs(coeffs_arr_hard, coeff_slices)\n",
    "\n",
    "    # Setting original approximation coefficients back\n",
    "    coeffs_hard[0] = coeffs[0]  # approximation preserved\n",
    "    \n",
    "    # Multilevel n-dimensional Inverse Discrete Wavelet Transform\n",
    "    I_den = pywt.waverecn(coeffs_hard, \"sym8\", mode=\"periodization\")\n",
    "    \n",
    "    psnr2 = psnr(I, I_den, vmax=-1)\n",
    "    fig = plt.figure(figsize=(14, 5))\n",
    "    \n",
    "    plt.subplot(121)\n",
    "    plt.imshow(I_noisy, cmap=\"gray\")\n",
    "    plt.title(\"Before thresholding: PSNR = {0:2.2f}dB \".format(psnr1 ))\n",
    "    \n",
    "    plt.subplot(122)\n",
    "    plt.imshow(I_den, cmap=\"gray\")\n",
    "    plt.title(\"After thresholding: PSNR = {0:2.2f}dB | threshold : {1:1.0f}*sigma \".format(psnr2, threshold ))\n",
    "    \n",
    "    plt.show() "
   ]
  },
  {
   "cell_type": "markdown",
   "metadata": {},
   "source": [
    "Exercise 4.1\n",
    "\n",
    "When keeping the threshold fixed and varying the levels of decomposition the result is not particularly interessting. PSNR improves from 0 to 1 and from 1 to 2, but reaches a plateu in which each additional level of decomposition does not add much.  \n",
    "\n",
    "On the other hand, when varying the thresholds the results are much more interesting. Raising the threshold from 0 unitl 3\\*sigma improves the value of PSNR but any further augmentation degrades the image.\n",
    "\n",
    "Exercise 4.2\n",
    "\n",
    "The idea developped in the code bellow is of changing the threshold value as a function of the decomposition value. This makes sense as the relative noise energy is different as a function of the decomposition level - we can be much more aggresive in the thresold of the first level of decomposition (high-frequency content) as the possibility of filtering actual image data is smaller.\n"
   ]
  },
  {
   "cell_type": "code",
   "execution_count": null,
   "metadata": {},
   "outputs": [],
   "source": [
    "# Exercise 4.2\n",
    "\n",
    "# idea : applying a different threshold for each level of decomposition\n",
    "\n",
    "J = 4   # fixed level of decomposition\n",
    "Jmax = int(np.log2(I.shape[0]))  # maximal number of octaves\n",
    "\n",
    "thres_values  = [3.5, 3.0, 1.5, 1.0]\n",
    "\n",
    "coeffs = pywt.wavedec2(I_noisy, wavelet=\"sym8\", level=J, mode=\"periodization\")\n",
    "\n",
    "# Conversion to an array for graphical representation\n",
    "coeffs_array, coeff_slices = pywt.coeffs_to_array(coeffs)\n",
    "\n",
    "# x = 0 -> first level decomposition\n",
    "# x = 1 -> second level decomposition\n",
    "# x = 2 -> third level decomposition ...\n",
    "for x in range(J):\n",
    "    coeffs[J-x][2][:] = perform_hardthresholding( coeffs[J-x][2][:] , thres_values[x] * sigma )\n",
    "    coeffs[J-x][1][:] = perform_hardthresholding( coeffs[J-x][1][:] , thres_values[x] * sigma )\n",
    "    coeffs[J-x][0][:] = perform_hardthresholding( coeffs[J-x][0][:] , thres_values[x] * sigma )\n",
    "\n",
    "# Setting original approximation coefficients back\n",
    "coeffs_hard = coeffs  # approximation preserved\n",
    "\n",
    "# Back to an array for graphical representation\n",
    "coeffs_hard_arr, slices = pywt.coeffs_to_array(coeffs_hard)\n",
    "\n",
    "plt.figure(figsize=(5, 5), dpi=200)\n",
    "plot_wavelet(coeffs_hard_arr, Jmin=Jmax - J)\n",
    "plt.show()\n",
    "\n",
    "# Multilevel n-dimensional Inverse Discrete Wavelet Transform\n",
    "#I_den = pywt.waverecn(coeffs_hard, \"sym8\", mode=\"periodization\")\n",
    "\n",
    "I_den = pywt.waverec2(coeffs, wavelet=\"sym8\", mode='periodization')\n",
    "\n",
    "psnr2 = psnr(I, I_den, vmax=-1)\n",
    "fig = plt.figure(figsize=(14, 6))\n",
    "\n",
    "plt.subplot(121)\n",
    "plt.imshow(I_noisy, cmap=\"gray\")\n",
    "plt.title(\"Before : PSNR = {0:2.2f}dB \".format(psnr1 ))\n",
    "\n",
    "plt.subplot(122)\n",
    "plt.imshow(I_den, cmap=\"gray\")\n",
    "plt.title(\"After : PSNR = {0:2.2f}dB | thresholds [{1}, {2}, {3}, {4}] \".format(psnr2, thres_values[0],thres_values[1], thres_values[2], thres_values[3] ))\n",
    "\n",
    "plt.show() "
   ]
  },
  {
   "cell_type": "markdown",
   "metadata": {},
   "source": [
    "### Bonus: Exercise 5 <a id=\"ex5\"></a> [(&#8593;)](#content)\n",
    "Optimize your denoising strategy by using a translation invariant wavelet transform provided by `pywt.swt2` (stationary wavelet transform).\n",
    "\n",
    "> Note: \n",
    ">\n",
    "> - there is currently an issue in the documentation of the `pywt.swt2` function: use the `trim_approx=True` argument to obtain the same output format as the `pywt.wavedec2` function.\n",
    "> - due to differences of `pywt.swt2` with respect to `pywt.wavedec2`, the `plot_wavelet` function above will not work as expected. You can directly display the array given by the `pywt.coeffs_to_array` function. Note however that the position of the vertical and horizontal details in this array are interverted compared to what is mentioned in the documentation (which can be seen by oberving the vertical and horizontal patterns, or by comparing with, e.g., the wavelet library in MATLAB)."
   ]
  }
 ],
 "metadata": {
  "kernelspec": {
   "display_name": "Python 3 (ipykernel)",
   "language": "python",
   "name": "python3"
  },
  "language_info": {
   "codemirror_mode": {
    "name": "ipython",
    "version": 3
   },
   "file_extension": ".py",
   "mimetype": "text/x-python",
   "name": "python",
   "nbconvert_exporter": "python",
   "pygments_lexer": "ipython3",
   "version": "3.11.8"
  }
 },
 "nbformat": 4,
 "nbformat_minor": 4
}
